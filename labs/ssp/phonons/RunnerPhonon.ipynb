{
 "cells": [
  {
   "cell_type": "markdown",
   "metadata": {},
   "source": [
    "### Run the cell below by pressing twice *ctrl + enter* and enjoy the game:\n",
    "remember to read *Readme.md* and to install *ipywidgets*\n",
    "* *u - atomic units*"
   ]
  },
  {
   "cell_type": "code",
   "execution_count": 4,
   "metadata": {
    "scrolled": false
   },
   "outputs": [
    {
     "ename": "SyntaxError",
     "evalue": "invalid syntax (service.py, line 398)",
     "output_type": "error",
     "traceback": [
      "Traceback \u001B[1;36m(most recent call last)\u001B[0m:\n",
      "  File \u001B[0;32m\"C:\\Users\\LENOVO\\PycharmProjects\\scientific_computations\\venv\\lib\\site-packages\\IPython\\core\\interactiveshell.py\"\u001B[0m, line \u001B[0;32m3444\u001B[0m, in \u001B[0;35mrun_code\u001B[0m\n    exec(code_obj, self.user_global_ns, self.user_ns)\n",
      "  File \u001B[0;32m\"C:\\Users\\LENOVO\\AppData\\Local\\Temp/ipykernel_15012/4220862622.py\"\u001B[0m, line \u001B[0;32m1\u001B[0m, in \u001B[0;35m<module>\u001B[0m\n    import fig as fig\n",
      "\u001B[1;36m  File \u001B[1;32m\"C:\\Users\\LENOVO\\PycharmProjects\\scientific_computations\\venv\\lib\\site-packages\\fig\\__init__.py\"\u001B[1;36m, line \u001B[1;32m2\u001B[1;36m, in \u001B[1;35m<module>\u001B[1;36m\u001B[0m\n\u001B[1;33m    from .service import Service  # noqa:flake8\u001B[0m\n",
      "\u001B[1;36m  File \u001B[1;32m\"C:\\Users\\LENOVO\\PycharmProjects\\scientific_computations\\venv\\lib\\site-packages\\fig\\service.py\"\u001B[1;36m, line \u001B[1;32m398\u001B[0m\n\u001B[1;33m    except StreamOutputError, e:\u001B[0m\n\u001B[1;37m                            ^\u001B[0m\n\u001B[1;31mSyntaxError\u001B[0m\u001B[1;31m:\u001B[0m invalid syntax\n"
     ]
    }
   ],
   "source": [
    "import fig as fig\n",
    "%run cphonon.ipynb\n",
    "fig\n",
    "display(OutWidg)\n",
    "outp"
   ]
  },
  {
   "cell_type": "markdown",
   "metadata": {},
   "source": [
    "You can add __your own text here__, and also above, if you want to teach something and some your own explanations e.g:\n",
    "* Notice how for fixed boundary conditions if the impurity is in the first atom, the impurity does not change neither the dispersion, nor any of the eigenmodes\n",
    "* Notice when we have open ends two different masses, there are two modes inbetween the two dispersions curves. These are no calculation errors, what do you think it is? Check the animation\n",
    "* Please be patient with the animation. Stop animation before changing widgets again. Also, do not let the animation play for too long, I think it is a problem. If everything stops, rerun the kernel (Kerner/Restart) and refresh the page.\n",
    "* Saving video takes around twice more time than displaying it.\n",
    "To edit, double click on this, add your text in MarkDown language and press \"Ctrl+Enter\" or \"Shift+Enter\". Notice differences between the both shortcuts."
   ]
  },
  {
   "cell_type": "code",
   "execution_count": 5,
   "metadata": {},
   "outputs": [
    {
     "data": {
      "text/plain": [
       "matrix([[ 3.79555672-3.06815785j],\n",
       "        [ 1.06483455-4.48802718j],\n",
       "        [-2.07261822-4.19362267j],\n",
       "        [-4.41840128-2.29739683j],\n",
       "        [-5.07650523+0.47635651j],\n",
       "        [-3.79555672+3.06815785j],\n",
       "        [-1.06483455+4.48802718j],\n",
       "        [ 2.07261822+4.19362267j],\n",
       "        [ 4.41840128+2.29739683j],\n",
       "        [ 5.07650523-0.47635651j]])"
      ]
     },
     "execution_count": 5,
     "metadata": {},
     "output_type": "execute_result"
    }
   ],
   "source": [
    "V[:,1]"
   ]
  },
  {
   "cell_type": "code",
   "execution_count": null,
   "metadata": {},
   "outputs": [],
   "source": []
  },
  {
   "cell_type": "code",
   "execution_count": null,
   "metadata": {},
   "outputs": [],
   "source": []
  }
 ],
 "metadata": {
  "kernelspec": {
   "display_name": "Python 3",
   "language": "python",
   "name": "python3"
  },
  "language_info": {
   "codemirror_mode": {
    "name": "ipython",
    "version": 3
   },
   "file_extension": ".py",
   "mimetype": "text/x-python",
   "name": "python",
   "nbconvert_exporter": "python",
   "pygments_lexer": "ipython3",
   "version": "3.6.9"
  },
  "varInspector": {
   "cols": {
    "lenName": 16,
    "lenType": 16,
    "lenVar": 40
   },
   "kernels_config": {
    "python": {
     "delete_cmd_postfix": "",
     "delete_cmd_prefix": "del ",
     "library": "var_list.py",
     "varRefreshCmd": "print(var_dic_list())"
    },
    "r": {
     "delete_cmd_postfix": ") ",
     "delete_cmd_prefix": "rm(",
     "library": "var_list.r",
     "varRefreshCmd": "cat(var_dic_list()) "
    }
   },
   "types_to_exclude": [
    "module",
    "function",
    "builtin_function_or_method",
    "instance",
    "_Feature"
   ],
   "window_display": false
  }
 },
 "nbformat": 4,
 "nbformat_minor": 2
}
