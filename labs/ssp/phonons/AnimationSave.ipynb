{
 "cells": [
  {
   "cell_type": "markdown",
   "metadata": {},
   "source": [
    "To run by *RunnerPhonon.ipynb*. Does the same as the *Animation.ipynb*, but at the end saves the animation to the current folder."
   ]
  },
  {
   "cell_type": "code",
   "execution_count": 29,
   "metadata": {},
   "outputs": [],
   "source": [
    "from matplotlib import pyplot as plt"
   ]
  },
  {
   "cell_type": "code",
   "execution_count": 45,
   "metadata": {},
   "outputs": [],
   "source": [
    "%store -r"
   ]
  },
  {
   "cell_type": "code",
   "execution_count": 46,
   "metadata": {},
   "outputs": [],
   "source": [
    "[N,gamma,bc,M1,M2,imp_enabled,Nimp,Mimp,ModeNr,MyInteractionResult]=VariablesForSaveAnim"
   ]
  },
  {
   "cell_type": "code",
   "execution_count": 32,
   "metadata": {},
   "outputs": [],
   "source": [
    "import matplotlib\n",
    "from matplotlib import animation, rc\n",
    "from IPython.display import HTML\n",
    "import numpy as np\n",
    "rc('animation', html='jshtml')\n",
    "#matplotlib.use(\"Agg\")\n"
   ]
  },
  {
   "cell_type": "markdown",
   "metadata": {},
   "source": [
    "Initializing values"
   ]
  },
  {
   "cell_type": "code",
   "execution_count": 34,
   "metadata": {},
   "outputs": [],
   "source": [
    "# #mode=ModeNrInter.value\n",
    "# Before all widgets are moved MyInteraction.result==None. Or when N==2 and bc==1\n",
    "if (MyInteractionResult is None):\n",
    "    if (N == 2):  # The problematic case of\n",
    "        Vanim = V[:, 0]\n",
    "        omegaAnim = omega[0]\n",
    "    else:  # The very first time the animation is run\n",
    "        Vanim = np.array([[3.79555672-3.06815785j],\n",
    "                          [1.06483455-4.48802718j],\n",
    "                          [-2.07261822-4.19362267j],\n",
    "                          [-4.41840128-2.29739683j],\n",
    "                          [-5.07650523+0.47635651j],\n",
    "                          [-3.79555672+3.06815785j],\n",
    "                          [-1.06483455+4.48802718j],\n",
    "                          [2.07261822+4.19362267j],\n",
    "                          [4.41840128+2.29739683j],\n",
    "                          [5.07650523-0.47635651j]])\n",
    "        omegaAnim = 2.607\n",
    "else:\n",
    "    Vanim = MyInteractionResult[2]\n",
    "    omegaAnim = MyInteractionResult[1]\n",
    "\n",
    "# Otherwise it will mant to make an infinite animation\n",
    "omegaAnim = 5 if np.abs(omegaAnim) < 1e-06 else omegaAnim"
   ]
  },
  {
   "cell_type": "markdown",
   "metadata": {},
   "source": [
    "Dealing with the case of fixed boundary conditions and N=2. This solves the problem"
   ]
  },
  {
   "cell_type": "code",
   "execution_count": 35,
   "metadata": {},
   "outputs": [],
   "source": [
    "try:\n",
    "    len(Vanim)\n",
    "except:\n",
    "    Vanim=[[0,0],[0,0]]\n",
    "    omegaAnim=10"
   ]
  },
  {
   "cell_type": "code",
   "execution_count": null,
   "metadata": {},
   "outputs": [],
   "source": []
  },
  {
   "cell_type": "code",
   "execution_count": 36,
   "metadata": {},
   "outputs": [],
   "source": [
    "Ampl=0.1*((M1+M2)/gamma)**(1/4) # don't know the reason for exactly ^(1/4)\n",
    "Vplot=np.array(np.transpose(Vanim)*Ampl)[0]  #transpose and [0] is for some stupid reasons with arrays\n",
    "\n",
    "oddAtoms = np.arange(1, N+1, 2)\n",
    "evenAtoms = np.arange(2, N+1, 2)\n",
    "allAtoms = np.arange(1, N+1)\n",
    "Vodd=Vplot[::2]\n",
    "Veven=Vplot[1::2]\n",
    "\n",
    "yodd = [0]*len(Vodd)\n",
    "yeven = [0]*len(Veven)"
   ]
  },
  {
   "cell_type": "code",
   "execution_count": null,
   "metadata": {},
   "outputs": [],
   "source": []
  },
  {
   "cell_type": "code",
   "execution_count": 37,
   "metadata": {},
   "outputs": [],
   "source": [
    "%%capture\n",
    "#%matplotlib tk\n",
    "fig2, ax3 = plt.subplots()\n",
    "fig2.set_size_inches(10.0, 1.4)\n",
    "\n",
    "ax3.set_xlim(( 0.5, N+0.5))\n",
    "ax3.set_ylim((-0.05, 0.05))\n",
    "#fig2.title='MyTitle'\n",
    "\n",
    "\n",
    "line,=ax3.plot([], [], 'bo', markersize=10)\n",
    "\n",
    "if M1 > M2:\n",
    "        mark1 = 11\n",
    "        mark2 = 6\n",
    "elif M1 == M2:\n",
    "        mark1 = mark2 = 6\n",
    "else:\n",
    "        mark1 = 6\n",
    "        mark2 = 11\n",
    "\n",
    "#Marker colors for masses\n",
    "if M1==M2:\n",
    "    col1, col2=\"blue\", \"blue\"\n",
    "else:\n",
    "    col1, col2=\"blue\", \"green\"\n",
    "        \n",
    "        \n",
    "#plotlays=[2]\n",
    "plotcols, markers = [col1,col2,\"white\",\"red\"], [mark1,mark2,11,(np.log(Mimp/M1+1.7)*7)] #[\"blue\",\"green\"],[mark1,mark2] \n",
    "lines = []\n",
    "for index in range(4):\n",
    "    lobj = ax3.plot([],[],'o',markersize=markers[index],color=plotcols[index])[0]\n",
    "    lines.append(lobj)\n",
    "def init():\n",
    "    for line in lines:\n",
    "        line.set_data([],[])\n",
    "    return lines\n",
    "\n",
    "ax3.set(xlabel=\"x/a, m\", ylabel='y',title='Atomic oscilations, mode nr = {}, bc = {}, $\\gamma$ = {}'.format(ModeNr,bc,gamma)) # for N={}, M1={}, M2={},Minp={}.'.format(N,M1,M2,Mimp)\n",
    "\n",
    "steptick=N//15+1\n",
    "xTickArray=np.arange(0, N+2, step=steptick)\n",
    "xTickArray = xTickArray.astype('float64')\n",
    "xTickArray[0], xTickArray[-1]=0.5, N+0.5\n",
    "ax3.set_xticks(xTickArray)\n",
    "\n",
    "fig2.subplots_adjust(bottom=0.3,top=0.8)"
   ]
  },
  {
   "cell_type": "markdown",
   "metadata": {},
   "source": [
    "Note how big problems the periodic boundary conditions cause(particle can appear from the other side). Otherwise the function bellow bould have been pretty simple. Now you have to look through all the cases and change a bit the  plotting data.\n",
    "\n",
    "It still does not deal with the case when the impurity is the last particle and it should reapear on the other side. If somebody really creates such a case then congrats, u cool!"
   ]
  },
  {
   "cell_type": "code",
   "execution_count": 38,
   "metadata": {
    "scrolled": true
   },
   "outputs": [],
   "source": [
    "def animate(t, *args):\n",
    "    if bc==0: #periodic boundary conditions (particle can appear from the other side) causes problems\n",
    "        lines[0].set_data(oddAtoms+np.real(np.exp(-omegaAnim*t*0.005*2*np.pi*1j)*Vodd), yodd)\n",
    "        lines[1].set_data(evenAtoms+np.real(np.exp(-omegaAnim*t*0.005*2*np.pi*1j)*Veven), yeven)\n",
    "        \n",
    "        if np.real(np.exp(-omegaAnim*t*0.005*2*np.pi*1j)*Vodd[0])< -0.5:\n",
    "            lines[0].set_data(np.append(oddAtoms[1:],N+1)+\n",
    "                              np.real(np.exp(-omegaAnim*t*0.005*2*np.pi*1j)*np.append(Vodd[1:],Vodd[0])), yodd)\n",
    "            lines[1].set_data(evenAtoms+np.real(np.exp(-omegaAnim*t*0.005*2*np.pi*1j)*Veven), yeven)\n",
    "        elif (np.real(np.exp(-omegaAnim*t*0.005*2*np.pi*1j)*Vodd[-1])> 0.5) & (N%2) :\n",
    "            lines[0].set_data(np.append(0,oddAtoms)+\n",
    "                              np.real(np.exp(-omegaAnim*t*0.005*2*np.pi*1j)*np.append(Vodd[-1],Vodd)), np.append(0,yodd)) #I don't take out the data point because it is not visible anyway\n",
    "            lines[1].set_data(evenAtoms+np.real(np.exp(-omegaAnim*t*0.005*2*np.pi*1j)*Veven), yeven)\n",
    "        elif (np.real(np.exp(-omegaAnim*t*0.005*2*np.pi*1j)*Veven[-1])> 0.5) & (N%2==0) :\n",
    "            lines[0].set_data(oddAtoms+\n",
    "                              np.real(np.exp(-omegaAnim*t*0.005*2*np.pi*1j)*Vodd), yodd) #I don't take out the data point because it is not visible anyway\n",
    "            lines[1].set_data(np.append(0,evenAtoms)+np.real(np.exp(-omegaAnim*t*0.005*2*np.pi*1j)*np.append(Veven[-1],Veven)), np.append(0,yeven))\n",
    "    else:\n",
    "        lines[0].set_data(oddAtoms+np.cos(omegaAnim*t*0.005*2*np.pi)*Vodd, yodd)\n",
    "        lines[1].set_data(evenAtoms+np.cos(omegaAnim*t*0.005*2*np.pi)*Veven, yeven)\n",
    "        \n",
    "\n",
    "    if imp_enabled == 1:\n",
    "        lines[2].set_data(Nimp+np.real(np.exp(-omegaAnim*t*0.005*2*np.pi*1j)*Vplot[Nimp-1]),0)\n",
    "        lines[3].set_data(Nimp+np.real(np.exp(-omegaAnim*t*0.005*2*np.pi*1j)*Vplot[Nimp-1]),0)\n",
    "    return (lines)"
   ]
  },
  {
   "cell_type": "code",
   "execution_count": null,
   "metadata": {},
   "outputs": [],
   "source": [
    "anim = animation.FuncAnimation(fig2, animate, init_func=init,\n",
    "                              frames=int(np.round(200/omegaAnim)), interval=4, blit=True) #frames value taken so that the film ends exatly at the end of the period"
   ]
  },
  {
   "cell_type": "code",
   "execution_count": 47,
   "metadata": {},
   "outputs": [],
   "source": [
    "Writer = animation.writers['ffmpeg']\n",
    "writer = Writer(fps=15, metadata=dict(artist='Me'), bitrate=1800)\n",
    "Name='PhononOscil_Mode_{}_SpringC_{}_N_{}.mp4'.format(ModeNr,gamma,N)"
   ]
  },
  {
   "cell_type": "code",
   "execution_count": 43,
   "metadata": {},
   "outputs": [],
   "source": [
    "anim.save(Name, writer=writer)"
   ]
  },
  {
   "cell_type": "code",
   "execution_count": null,
   "metadata": {},
   "outputs": [],
   "source": []
  },
  {
   "cell_type": "code",
   "execution_count": null,
   "metadata": {},
   "outputs": [],
   "source": []
  }
 ],
 "metadata": {
  "kernelspec": {
   "display_name": "Python 3",
   "language": "python",
   "name": "python3"
  },
  "language_info": {
   "codemirror_mode": {
    "name": "ipython",
    "version": 3
   },
   "file_extension": ".py",
   "mimetype": "text/x-python",
   "name": "python",
   "nbconvert_exporter": "python",
   "pygments_lexer": "ipython3",
   "version": "3.6.9"
  },
  "varInspector": {
   "cols": {
    "lenName": 16,
    "lenType": 16,
    "lenVar": 40
   },
   "kernels_config": {
    "python": {
     "delete_cmd_postfix": "",
     "delete_cmd_prefix": "del ",
     "library": "var_list.py",
     "varRefreshCmd": "print(var_dic_list())"
    },
    "r": {
     "delete_cmd_postfix": ") ",
     "delete_cmd_prefix": "rm(",
     "library": "var_list.r",
     "varRefreshCmd": "cat(var_dic_list()) "
    }
   },
   "position": {
    "height": "144.85px",
    "left": "1541px",
    "right": "20px",
    "top": "218px",
    "width": "350px"
   },
   "types_to_exclude": [
    "module",
    "function",
    "builtin_function_or_method",
    "instance",
    "_Feature"
   ],
   "window_display": false
  }
 },
 "nbformat": 4,
 "nbformat_minor": 2
}
