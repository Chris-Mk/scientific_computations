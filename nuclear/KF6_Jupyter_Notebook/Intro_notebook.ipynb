{
 "cells": [
  {
   "cell_type": "markdown",
   "metadata": {
    "pycharm": {
     "name": "#%% md\n"
    }
   },
   "source": [
    "# Data analysis - Introduction to Jupyter Notebooks for Nuclear Physics Laboratories\n",
    "\n",
    "## Table of Content\n",
    "\n",
    " [About this Notebook](#about)\n",
    "\n",
    "* [1.Jupyter and Python Basics](#basics)\n",
    "\n",
    "    * [1.1 Before we start: Jupyter Basics](#jupyter)\n",
    "    * [1.2 Python Basics and How Python Relates to Matlab](#matlab)\n",
    "                                                       \n",
    "    * [1.3 Importing python packages](#import)\n",
    "\n",
    "\n",
    "* [2. Read experimental data from file](#read)\n",
    "    * [2.1 Loading spectrum](#load)\n",
    "    * [2.2 Plotting the data](#plot)\n",
    "\n",
    "\n",
    "* [3. Analyzing the data](#fit)\n",
    "    * [3.1 Fitting a Gaussian](#gaussian)\n",
    "        * [3.1.1 Manually adjusting Gaussian parameters to fit a peak](#manually)\n",
    "        * [3.1.1 Using python to fit a Gaussian for us ](#notmanual)\n",
    "        * [3.1.3 Improving your fit - accounting for a linear background](#background)\n",
    "    * [3.2 Calculate Peak Area](#peak_area)\n",
    "    * [3.3 Fit a line - Energy calibration](#line)\n",
    "        * [3.3.1 Find the coeficients](#coeff)\n",
    "        * [3.3.2 Apply calibration](#application)\n",
    "        \n",
    "        \n",
    "* [4. Take away](#away)\n",
    "\n",
    "## About this Notebook <a name=\"about\"></a>\n",
    "\n",
    "The purpose of this _jupyter_ notebook is to introduce data analysis tools, strategies and terminology used in gamma spectroscopy. The example programming language is _Python3_ , but of course most other coding languages can do the job properly as well. \n",
    "\n",
    "If you have never programmed before or are new to Python and would like to learn more, there are many great Python tutorials available across the web.\n",
    "There even exist plenty of _Open Online Courses_ , e.g.\n",
    "https://www.coursera.org/learn/python. Please have a look around for the one\n",
    "that you like the best. However, note that you do not need to be a\n",
    "Python programmer to pass the lab: the tool and code you will find in this notebook are enough for you to perform your own data analysis!\n",
    "\n",
    "The data analysis for these lab series can roughly be divided into four steps:\n",
    "1. Read experimental data from file.\n",
    "2. Identify peak positions.\n",
    "3. Calibrate the detector response.\n",
    "4. Perform a statistical analysis (e.g. error propagation) and present results.\n",
    "\n",
    "A dedicated python library, i.e. a folder with already written code located in\n",
    "`lib`, has been implemented for this data analysis connected to your labs. This library will support you in above mentioned steps 1-3. This introduction notebook will introduce you to these library functions as well as their working principle.\n",
    "\n",
    "Each section will consist of full Python3 coding examples of how to perform the different steps of the data\n",
    "analysis. Every example is finished with a template of how the\n",
    "analysis library can be used to perform the same calculations.\n"
   ]
  },
  {
   "cell_type": "markdown",
   "metadata": {
    "pycharm": {
     "name": "#%% md\n"
    }
   },
   "source": [
    "# 1. Jupyter and Python Basics <a name=\"basics\"></a>"
   ]
  },
  {
   "cell_type": "markdown",
   "metadata": {
    "pycharm": {
     "name": "#%% md\n"
    }
   },
   "source": [
    "## 1.1 Before we start: Jupyter Basics <a name=\"jupyter\"></a>\n",
    "- You can **edit** code and text cells by double clicking into them.\n",
    "- You can **run** cells and thus execute code by marking a cell and clicking 'Run' or by pressing `Ctrl-Enter` on your keyboard.\n",
    "- The **output** of the code is printed below cell and can consist of text, graphics or interative elements\n",
    "- The code you run has **'side-effects'** such as **data being modified** or stored in variables. These are kept in memory and work between different cells as Python is running in the background as a so-called Jupyter 'kernel'.\n",
    "- This means that you sometimes have to **consider the order** or the cells you run: later cells might require earlier to have been run or modify data in some way that could lead to surprising results if run twice.\n",
    "- If you want, you can **add cells** from the `Insert` menu.\n",
    "- **Should something not work as expected**:\n",
    "  - Check the error message -- it should give you a good clue what is wrong and maybe that's all you need!\n",
    "  - Make sure that you have run previous cells: they might contain code required for later cells!\n",
    "  - Use 'undo' in the menu to revert to your previous change to the problematic cell (if you modified it at all).\n",
    "  - Try restarting the Python kernel by selecting `Kernel-> Restart Kernel & Clear Output` from the menu. You will not lose any changes but your notebook will 'start over'. Simply execute the cells in order again and see whether the problem persists.\n",
    "\n",
    "If you want to modify the code, you will be pleased to hear that Jupyter supports \"tab-complete\": if you start typing for example a variable name, you can hit the `Tab` key on your keyboard to let Jupyter complete the name for you and thus save a few keystrokes! Other useful hotkeys are explained in the `Help` menu items."
   ]
  },
  {
   "cell_type": "markdown",
   "metadata": {
    "pycharm": {
     "name": "#%% md\n"
    }
   },
   "source": [
    "## 1.2 Python Basics and How Python Relates to Matlab <a name=\"matlab\"></a>\n",
    "\n",
    "This section will familiarize you with the basic syntax and some simple commands in Python.\n",
    "Knowing this is not strictly necessary for the labs, but it will make it easier for you to read and modify the code or to look further into coding with Python:"
   ]
  },
  {
   "cell_type": "code",
   "execution_count": null,
   "metadata": {
    "pycharm": {
     "name": "#%%\n"
    }
   },
   "outputs": [],
   "source": [
    "# this is a comment and will do nothing but help you understand the code.\n",
    "# comments have a '#' before them.\n",
    "# this is code to print something into the notebook:\n",
    "print(\"Hello world!\")"
   ]
  },
  {
   "cell_type": "code",
   "execution_count": null,
   "metadata": {
    "pycharm": {
     "name": "#%%\n"
    }
   },
   "outputs": [],
   "source": [
    "# this defines a variable 'a' that holds a numeric value:\n",
    "a = 4.92351231341613135\n",
    "# if you write just the variable like this, Jupyter will print its value into the document next to an 'Out[]' marker:\n",
    "a"
   ]
  },
  {
   "cell_type": "markdown",
   "metadata": {
    "pycharm": {
     "name": "#%% md\n"
    }
   },
   "source": [
    "Thare are different ways of printing the value of a variable into this document in a more informative way using the command `print`:"
   ]
  },
  {
   "cell_type": "code",
   "execution_count": null,
   "metadata": {
    "pycharm": {
     "name": "#%%\n"
    }
   },
   "outputs": [],
   "source": [
    "# printing it 'raw' gives its value:\n",
    "print(\"The variable 'a' is \", a)\n",
    "# a more verbose option: formated printing:\n",
    "# printing it formated allows to print only 3 digits after the comma\n",
    "# which is defined by the format specifier ':.3f' where 'f' stands for \n",
    "# 'float number' and .3 gives the number of digits:\n",
    "print(\"The variable 'a' is: {:.3f}\".format(a))"
   ]
  },
  {
   "cell_type": "code",
   "execution_count": null,
   "metadata": {
    "pycharm": {
     "name": "#%%\n"
    }
   },
   "outputs": [],
   "source": [
    "# doing arithmetics in the printout:\n",
    "print(\"a^2 = {}\".format(a*a))"
   ]
  },
  {
   "cell_type": "markdown",
   "metadata": {
    "pycharm": {
     "name": "#%% md\n"
    }
   },
   "source": [
    "Using lists and indices in Python: Python starts counting from `0`! And `-1` always refers to the *last* index in a list."
   ]
  },
  {
   "cell_type": "code",
   "execution_count": null,
   "metadata": {
    "pycharm": {
     "name": "#%%\n"
    }
   },
   "outputs": [],
   "source": [
    "# simple list can be defined as:\n",
    "mylist = [1, 2, 3, 4, 5, 6, 7, 8, 9]\n",
    "mylist"
   ]
  },
  {
   "cell_type": "code",
   "execution_count": null,
   "metadata": {
    "pycharm": {
     "name": "#%%\n"
    }
   },
   "outputs": [],
   "source": [
    "#index in Python is always starting from 0\n",
    "print(\"mylist at index 0 = {}\".format(mylist[0]))\n",
    "print(\"mylist at last index = {}\".format(mylist[-1]))"
   ]
  },
  {
   "cell_type": "markdown",
   "metadata": {
    "pycharm": {
     "name": "#%% md\n"
    }
   },
   "source": [
    "In our labs, we often have to manipulate data stored in lists or numpy arrays (which have a very similar syntax).\n",
    "You can select only part of a list by 'slicing' it at different index positions: `l[start_index:end_index:step size]`"
   ]
  },
  {
   "cell_type": "code",
   "execution_count": null,
   "metadata": {
    "pycharm": {
     "name": "#%%\n"
    }
   },
   "outputs": [],
   "source": [
    "mylist[0:5:2]"
   ]
  },
  {
   "cell_type": "code",
   "execution_count": null,
   "metadata": {
    "pycharm": {
     "name": "#%%\n"
    }
   },
   "outputs": [],
   "source": [
    "mylist[-1] = 10 # set index 8 to 10\n",
    "mylist[0:5:2] = [99,99,99] # set above slice to 99 each: have to assign a list of same length!\n",
    "mylist # output"
   ]
  },
  {
   "cell_type": "markdown",
   "metadata": {
    "pycharm": {
     "name": "#%% md\n"
    }
   },
   "source": [
    "## 1.3 Importing python libraries <a name=\"import\"></a>\n",
    "\n",
    "Here is **the full list of modules** needed to run the code in the Jupyter Notebook. "
   ]
  },
  {
   "cell_type": "code",
   "execution_count": 7,
   "metadata": {
    "pycharm": {
     "name": "#%%\n"
    }
   },
   "outputs": [],
   "source": [
    "# TODO : remove .py files from the repo that are not explicitly used here!\n",
    "# Packages to access files in the system\n",
    "import sys, os\n",
    "\n",
    "# Package that supports mathmatical operations on arrays\n",
    "import numpy as np  \n",
    "\n",
    "# Package for plotting; \n",
    "# first line makes plots interactive, \n",
    "# second actually loads the library\n",
    "%matplotlib notebook\n",
    "import matplotlib.pyplot as plt\n",
    "\n",
    "# Function that fits a curve to data \n",
    "from scipy.optimize import curve_fit\n",
    "\n",
    "# Custom pakages prepared for you to analyze experimental data from labs.\n",
    "# The code is located in the 'lib' subfolder which we have to specify:\n",
    "# sys.path.append('./lib')\n",
    "from lib import MCA, fittingFunctions, widgetsHelper"
   ]
  },
  {
   "cell_type": "markdown",
   "metadata": {
    "pycharm": {
     "name": "#%% md\n"
    }
   },
   "source": [
    "The very first line inserts the parent directory to the search path such that the analysis code in `fittingFunctions` and `MCA.py` can be found by `python`. You will likely need most of the above modules during the labs\n",
    "\n",
    "The code below is only needed for the interactive demonstrations within this notebook, so please run it here as well:"
   ]
  },
  {
   "cell_type": "code",
   "execution_count": 8,
   "metadata": {
    "pycharm": {
     "name": "#%%\n"
    }
   },
   "outputs": [],
   "source": [
    "# Package to create interactive plots\n",
    "# Only needed in this demo!\n",
    "from ipywidgets import interact, interactive, fixed, widgets, Button, Layout\n",
    "\n",
    "# comment this line in if you prefer to use the full width of the display:\n",
    "#from IPython.core.display import display, HTML\n",
    "#display(HTML(\"<style>.container { width:100% !important; }</style>\"))"
   ]
  },
  {
   "cell_type": "markdown",
   "metadata": {
    "pycharm": {
     "name": "#%% md\n"
    }
   },
   "source": [
    "--------------------------------------------------------------------------------------------------------------"
   ]
  },
  {
   "cell_type": "markdown",
   "metadata": {
    "pycharm": {
     "name": "#%% md\n"
    }
   },
   "source": [
    "# 2. Reading experimental data <a name=\"read\"></a>\n",
    "\n",
    "## 2.1 Loading a spectrum from file <a name=\"load\"></a>\n",
    "\n",
    "With the help of the function `load_spectrum` from package `MCA` one can read the experimental data from one data file as follows:"
   ]
  },
  {
   "cell_type": "code",
   "execution_count": 9,
   "metadata": {
    "attributes": {
     "classes": [],
     "id": "",
     "n": "2"
    },
    "pycharm": {
     "name": "#%%\n"
    }
   },
   "outputs": [],
   "source": [
    "data = MCA.load_spectrum(\"Intro_data/test_data.Spe\")"
   ]
  },
  {
   "cell_type": "markdown",
   "metadata": {
    "pycharm": {
     "name": "#%% md\n"
    }
   },
   "source": [
    "_If you are interested in how to read and write files in Python see e.g. http://www.pythonforbeginners.com/files/reading-and-writing-files-in-python or you could have a look at the source code in [MCA.py](./lib/MCA.py)._"
   ]
  },
  {
   "cell_type": "markdown",
   "metadata": {
    "pycharm": {
     "name": "#%% md\n"
    }
   },
   "source": [
    "`data` is an object of a class `Spectrum` in which we store information about our histogram: `bin_edges` and `bin_centers` variables give us information about our **channels** and `counts` is used to store  **counts** (cf. [MCA.py](./lib/MCA.py)). See for instance: "
   ]
  },
  {
   "cell_type": "code",
   "execution_count": 10,
   "metadata": {
    "pycharm": {
     "name": "#%%\n"
    }
   },
   "outputs": [
    {
     "name": "stdout",
     "output_type": "stream",
     "text": [
      "bin edges =  [   0    1    2 ... 2046 2047 2048]\n",
      "bin centers =  [5.0000e-01 1.5000e+00 2.5000e+00 ... 2.0455e+03 2.0465e+03 2.0475e+03]\n",
      "counts =  [0. 0. 0. ... 0. 0. 0.]\n"
     ]
    }
   ],
   "source": [
    "print('bin edges = ', data.bin_edges)\n",
    "print('bin centers = ', data.bin_centers)\n",
    "print('counts = ', data.counts)"
   ]
  },
  {
   "cell_type": "markdown",
   "metadata": {
    "pycharm": {
     "name": "#%% md\n"
    }
   },
   "source": [
    "## 2.2 Plotting the data <a name=\"plot\"></a>\n",
    "\n",
    "It is always good to visualise your data. This is how you can plot and visualise it:"
   ]
  },
  {
   "cell_type": "code",
   "execution_count": 11,
   "metadata": {
    "pycharm": {
     "name": "#%%\n"
    }
   },
   "outputs": [
    {
     "data": {
      "text/plain": "<IPython.core.display.Javascript object>",
      "application/javascript": "/* Put everything inside the global mpl namespace */\n/* global mpl */\nwindow.mpl = {};\n\nmpl.get_websocket_type = function () {\n    if (typeof WebSocket !== 'undefined') {\n        return WebSocket;\n    } else if (typeof MozWebSocket !== 'undefined') {\n        return MozWebSocket;\n    } else {\n        alert(\n            'Your browser does not have WebSocket support. ' +\n                'Please try Chrome, Safari or Firefox ≥ 6. ' +\n                'Firefox 4 and 5 are also supported but you ' +\n                'have to enable WebSockets in about:config.'\n        );\n    }\n};\n\nmpl.figure = function (figure_id, websocket, ondownload, parent_element) {\n    this.id = figure_id;\n\n    this.ws = websocket;\n\n    this.supports_binary = this.ws.binaryType !== undefined;\n\n    if (!this.supports_binary) {\n        var warnings = document.getElementById('mpl-warnings');\n        if (warnings) {\n            warnings.style.display = 'block';\n            warnings.textContent =\n                'This browser does not support binary websocket messages. ' +\n                'Performance may be slow.';\n        }\n    }\n\n    this.imageObj = new Image();\n\n    this.context = undefined;\n    this.message = undefined;\n    this.canvas = undefined;\n    this.rubberband_canvas = undefined;\n    this.rubberband_context = undefined;\n    this.format_dropdown = undefined;\n\n    this.image_mode = 'full';\n\n    this.root = document.createElement('div');\n    this.root.setAttribute('style', 'display: inline-block');\n    this._root_extra_style(this.root);\n\n    parent_element.appendChild(this.root);\n\n    this._init_header(this);\n    this._init_canvas(this);\n    this._init_toolbar(this);\n\n    var fig = this;\n\n    this.waiting = false;\n\n    this.ws.onopen = function () {\n        fig.send_message('supports_binary', { value: fig.supports_binary });\n        fig.send_message('send_image_mode', {});\n        if (fig.ratio !== 1) {\n            fig.send_message('set_dpi_ratio', { dpi_ratio: fig.ratio });\n        }\n        fig.send_message('refresh', {});\n    };\n\n    this.imageObj.onload = function () {\n        if (fig.image_mode === 'full') {\n            // Full images could contain transparency (where diff images\n            // almost always do), so we need to clear the canvas so that\n            // there is no ghosting.\n            fig.context.clearRect(0, 0, fig.canvas.width, fig.canvas.height);\n        }\n        fig.context.drawImage(fig.imageObj, 0, 0);\n    };\n\n    this.imageObj.onunload = function () {\n        fig.ws.close();\n    };\n\n    this.ws.onmessage = this._make_on_message_function(this);\n\n    this.ondownload = ondownload;\n};\n\nmpl.figure.prototype._init_header = function () {\n    var titlebar = document.createElement('div');\n    titlebar.classList =\n        'ui-dialog-titlebar ui-widget-header ui-corner-all ui-helper-clearfix';\n    var titletext = document.createElement('div');\n    titletext.classList = 'ui-dialog-title';\n    titletext.setAttribute(\n        'style',\n        'width: 100%; text-align: center; padding: 3px;'\n    );\n    titlebar.appendChild(titletext);\n    this.root.appendChild(titlebar);\n    this.header = titletext;\n};\n\nmpl.figure.prototype._canvas_extra_style = function (_canvas_div) {};\n\nmpl.figure.prototype._root_extra_style = function (_canvas_div) {};\n\nmpl.figure.prototype._init_canvas = function () {\n    var fig = this;\n\n    var canvas_div = (this.canvas_div = document.createElement('div'));\n    canvas_div.setAttribute(\n        'style',\n        'border: 1px solid #ddd;' +\n            'box-sizing: content-box;' +\n            'clear: both;' +\n            'min-height: 1px;' +\n            'min-width: 1px;' +\n            'outline: 0;' +\n            'overflow: hidden;' +\n            'position: relative;' +\n            'resize: both;'\n    );\n\n    function on_keyboard_event_closure(name) {\n        return function (event) {\n            return fig.key_event(event, name);\n        };\n    }\n\n    canvas_div.addEventListener(\n        'keydown',\n        on_keyboard_event_closure('key_press')\n    );\n    canvas_div.addEventListener(\n        'keyup',\n        on_keyboard_event_closure('key_release')\n    );\n\n    this._canvas_extra_style(canvas_div);\n    this.root.appendChild(canvas_div);\n\n    var canvas = (this.canvas = document.createElement('canvas'));\n    canvas.classList.add('mpl-canvas');\n    canvas.setAttribute('style', 'box-sizing: content-box;');\n\n    this.context = canvas.getContext('2d');\n\n    var backingStore =\n        this.context.backingStorePixelRatio ||\n        this.context.webkitBackingStorePixelRatio ||\n        this.context.mozBackingStorePixelRatio ||\n        this.context.msBackingStorePixelRatio ||\n        this.context.oBackingStorePixelRatio ||\n        this.context.backingStorePixelRatio ||\n        1;\n\n    this.ratio = (window.devicePixelRatio || 1) / backingStore;\n\n    var rubberband_canvas = (this.rubberband_canvas = document.createElement(\n        'canvas'\n    ));\n    rubberband_canvas.setAttribute(\n        'style',\n        'box-sizing: content-box; position: absolute; left: 0; top: 0; z-index: 1;'\n    );\n\n    // Apply a ponyfill if ResizeObserver is not implemented by browser.\n    if (this.ResizeObserver === undefined) {\n        if (window.ResizeObserver !== undefined) {\n            this.ResizeObserver = window.ResizeObserver;\n        } else {\n            var obs = _JSXTOOLS_RESIZE_OBSERVER({});\n            this.ResizeObserver = obs.ResizeObserver;\n        }\n    }\n\n    this.resizeObserverInstance = new this.ResizeObserver(function (entries) {\n        var nentries = entries.length;\n        for (var i = 0; i < nentries; i++) {\n            var entry = entries[i];\n            var width, height;\n            if (entry.contentBoxSize) {\n                if (entry.contentBoxSize instanceof Array) {\n                    // Chrome 84 implements new version of spec.\n                    width = entry.contentBoxSize[0].inlineSize;\n                    height = entry.contentBoxSize[0].blockSize;\n                } else {\n                    // Firefox implements old version of spec.\n                    width = entry.contentBoxSize.inlineSize;\n                    height = entry.contentBoxSize.blockSize;\n                }\n            } else {\n                // Chrome <84 implements even older version of spec.\n                width = entry.contentRect.width;\n                height = entry.contentRect.height;\n            }\n\n            // Keep the size of the canvas and rubber band canvas in sync with\n            // the canvas container.\n            if (entry.devicePixelContentBoxSize) {\n                // Chrome 84 implements new version of spec.\n                canvas.setAttribute(\n                    'width',\n                    entry.devicePixelContentBoxSize[0].inlineSize\n                );\n                canvas.setAttribute(\n                    'height',\n                    entry.devicePixelContentBoxSize[0].blockSize\n                );\n            } else {\n                canvas.setAttribute('width', width * fig.ratio);\n                canvas.setAttribute('height', height * fig.ratio);\n            }\n            canvas.setAttribute(\n                'style',\n                'width: ' + width + 'px; height: ' + height + 'px;'\n            );\n\n            rubberband_canvas.setAttribute('width', width);\n            rubberband_canvas.setAttribute('height', height);\n\n            // And update the size in Python. We ignore the initial 0/0 size\n            // that occurs as the element is placed into the DOM, which should\n            // otherwise not happen due to the minimum size styling.\n            if (fig.ws.readyState == 1 && width != 0 && height != 0) {\n                fig.request_resize(width, height);\n            }\n        }\n    });\n    this.resizeObserverInstance.observe(canvas_div);\n\n    function on_mouse_event_closure(name) {\n        return function (event) {\n            return fig.mouse_event(event, name);\n        };\n    }\n\n    rubberband_canvas.addEventListener(\n        'mousedown',\n        on_mouse_event_closure('button_press')\n    );\n    rubberband_canvas.addEventListener(\n        'mouseup',\n        on_mouse_event_closure('button_release')\n    );\n    rubberband_canvas.addEventListener(\n        'dblclick',\n        on_mouse_event_closure('dblclick')\n    );\n    // Throttle sequential mouse events to 1 every 20ms.\n    rubberband_canvas.addEventListener(\n        'mousemove',\n        on_mouse_event_closure('motion_notify')\n    );\n\n    rubberband_canvas.addEventListener(\n        'mouseenter',\n        on_mouse_event_closure('figure_enter')\n    );\n    rubberband_canvas.addEventListener(\n        'mouseleave',\n        on_mouse_event_closure('figure_leave')\n    );\n\n    canvas_div.addEventListener('wheel', function (event) {\n        if (event.deltaY < 0) {\n            event.step = 1;\n        } else {\n            event.step = -1;\n        }\n        on_mouse_event_closure('scroll')(event);\n    });\n\n    canvas_div.appendChild(canvas);\n    canvas_div.appendChild(rubberband_canvas);\n\n    this.rubberband_context = rubberband_canvas.getContext('2d');\n    this.rubberband_context.strokeStyle = '#000000';\n\n    this._resize_canvas = function (width, height, forward) {\n        if (forward) {\n            canvas_div.style.width = width + 'px';\n            canvas_div.style.height = height + 'px';\n        }\n    };\n\n    // Disable right mouse context menu.\n    this.rubberband_canvas.addEventListener('contextmenu', function (_e) {\n        event.preventDefault();\n        return false;\n    });\n\n    function set_focus() {\n        canvas.focus();\n        canvas_div.focus();\n    }\n\n    window.setTimeout(set_focus, 100);\n};\n\nmpl.figure.prototype._init_toolbar = function () {\n    var fig = this;\n\n    var toolbar = document.createElement('div');\n    toolbar.classList = 'mpl-toolbar';\n    this.root.appendChild(toolbar);\n\n    function on_click_closure(name) {\n        return function (_event) {\n            return fig.toolbar_button_onclick(name);\n        };\n    }\n\n    function on_mouseover_closure(tooltip) {\n        return function (event) {\n            if (!event.currentTarget.disabled) {\n                return fig.toolbar_button_onmouseover(tooltip);\n            }\n        };\n    }\n\n    fig.buttons = {};\n    var buttonGroup = document.createElement('div');\n    buttonGroup.classList = 'mpl-button-group';\n    for (var toolbar_ind in mpl.toolbar_items) {\n        var name = mpl.toolbar_items[toolbar_ind][0];\n        var tooltip = mpl.toolbar_items[toolbar_ind][1];\n        var image = mpl.toolbar_items[toolbar_ind][2];\n        var method_name = mpl.toolbar_items[toolbar_ind][3];\n\n        if (!name) {\n            /* Instead of a spacer, we start a new button group. */\n            if (buttonGroup.hasChildNodes()) {\n                toolbar.appendChild(buttonGroup);\n            }\n            buttonGroup = document.createElement('div');\n            buttonGroup.classList = 'mpl-button-group';\n            continue;\n        }\n\n        var button = (fig.buttons[name] = document.createElement('button'));\n        button.classList = 'mpl-widget';\n        button.setAttribute('role', 'button');\n        button.setAttribute('aria-disabled', 'false');\n        button.addEventListener('click', on_click_closure(method_name));\n        button.addEventListener('mouseover', on_mouseover_closure(tooltip));\n\n        var icon_img = document.createElement('img');\n        icon_img.src = '_images/' + image + '.png';\n        icon_img.srcset = '_images/' + image + '_large.png 2x';\n        icon_img.alt = tooltip;\n        button.appendChild(icon_img);\n\n        buttonGroup.appendChild(button);\n    }\n\n    if (buttonGroup.hasChildNodes()) {\n        toolbar.appendChild(buttonGroup);\n    }\n\n    var fmt_picker = document.createElement('select');\n    fmt_picker.classList = 'mpl-widget';\n    toolbar.appendChild(fmt_picker);\n    this.format_dropdown = fmt_picker;\n\n    for (var ind in mpl.extensions) {\n        var fmt = mpl.extensions[ind];\n        var option = document.createElement('option');\n        option.selected = fmt === mpl.default_extension;\n        option.innerHTML = fmt;\n        fmt_picker.appendChild(option);\n    }\n\n    var status_bar = document.createElement('span');\n    status_bar.classList = 'mpl-message';\n    toolbar.appendChild(status_bar);\n    this.message = status_bar;\n};\n\nmpl.figure.prototype.request_resize = function (x_pixels, y_pixels) {\n    // Request matplotlib to resize the figure. Matplotlib will then trigger a resize in the client,\n    // which will in turn request a refresh of the image.\n    this.send_message('resize', { width: x_pixels, height: y_pixels });\n};\n\nmpl.figure.prototype.send_message = function (type, properties) {\n    properties['type'] = type;\n    properties['figure_id'] = this.id;\n    this.ws.send(JSON.stringify(properties));\n};\n\nmpl.figure.prototype.send_draw_message = function () {\n    if (!this.waiting) {\n        this.waiting = true;\n        this.ws.send(JSON.stringify({ type: 'draw', figure_id: this.id }));\n    }\n};\n\nmpl.figure.prototype.handle_save = function (fig, _msg) {\n    var format_dropdown = fig.format_dropdown;\n    var format = format_dropdown.options[format_dropdown.selectedIndex].value;\n    fig.ondownload(fig, format);\n};\n\nmpl.figure.prototype.handle_resize = function (fig, msg) {\n    var size = msg['size'];\n    if (size[0] !== fig.canvas.width || size[1] !== fig.canvas.height) {\n        fig._resize_canvas(size[0], size[1], msg['forward']);\n        fig.send_message('refresh', {});\n    }\n};\n\nmpl.figure.prototype.handle_rubberband = function (fig, msg) {\n    var x0 = msg['x0'] / fig.ratio;\n    var y0 = (fig.canvas.height - msg['y0']) / fig.ratio;\n    var x1 = msg['x1'] / fig.ratio;\n    var y1 = (fig.canvas.height - msg['y1']) / fig.ratio;\n    x0 = Math.floor(x0) + 0.5;\n    y0 = Math.floor(y0) + 0.5;\n    x1 = Math.floor(x1) + 0.5;\n    y1 = Math.floor(y1) + 0.5;\n    var min_x = Math.min(x0, x1);\n    var min_y = Math.min(y0, y1);\n    var width = Math.abs(x1 - x0);\n    var height = Math.abs(y1 - y0);\n\n    fig.rubberband_context.clearRect(\n        0,\n        0,\n        fig.canvas.width / fig.ratio,\n        fig.canvas.height / fig.ratio\n    );\n\n    fig.rubberband_context.strokeRect(min_x, min_y, width, height);\n};\n\nmpl.figure.prototype.handle_figure_label = function (fig, msg) {\n    // Updates the figure title.\n    fig.header.textContent = msg['label'];\n};\n\nmpl.figure.prototype.handle_cursor = function (fig, msg) {\n    var cursor = msg['cursor'];\n    switch (cursor) {\n        case 0:\n            cursor = 'pointer';\n            break;\n        case 1:\n            cursor = 'default';\n            break;\n        case 2:\n            cursor = 'crosshair';\n            break;\n        case 3:\n            cursor = 'move';\n            break;\n    }\n    fig.rubberband_canvas.style.cursor = cursor;\n};\n\nmpl.figure.prototype.handle_message = function (fig, msg) {\n    fig.message.textContent = msg['message'];\n};\n\nmpl.figure.prototype.handle_draw = function (fig, _msg) {\n    // Request the server to send over a new figure.\n    fig.send_draw_message();\n};\n\nmpl.figure.prototype.handle_image_mode = function (fig, msg) {\n    fig.image_mode = msg['mode'];\n};\n\nmpl.figure.prototype.handle_history_buttons = function (fig, msg) {\n    for (var key in msg) {\n        if (!(key in fig.buttons)) {\n            continue;\n        }\n        fig.buttons[key].disabled = !msg[key];\n        fig.buttons[key].setAttribute('aria-disabled', !msg[key]);\n    }\n};\n\nmpl.figure.prototype.handle_navigate_mode = function (fig, msg) {\n    if (msg['mode'] === 'PAN') {\n        fig.buttons['Pan'].classList.add('active');\n        fig.buttons['Zoom'].classList.remove('active');\n    } else if (msg['mode'] === 'ZOOM') {\n        fig.buttons['Pan'].classList.remove('active');\n        fig.buttons['Zoom'].classList.add('active');\n    } else {\n        fig.buttons['Pan'].classList.remove('active');\n        fig.buttons['Zoom'].classList.remove('active');\n    }\n};\n\nmpl.figure.prototype.updated_canvas_event = function () {\n    // Called whenever the canvas gets updated.\n    this.send_message('ack', {});\n};\n\n// A function to construct a web socket function for onmessage handling.\n// Called in the figure constructor.\nmpl.figure.prototype._make_on_message_function = function (fig) {\n    return function socket_on_message(evt) {\n        if (evt.data instanceof Blob) {\n            var img = evt.data;\n            if (img.type !== 'image/png') {\n                /* FIXME: We get \"Resource interpreted as Image but\n                 * transferred with MIME type text/plain:\" errors on\n                 * Chrome.  But how to set the MIME type?  It doesn't seem\n                 * to be part of the websocket stream */\n                img.type = 'image/png';\n            }\n\n            /* Free the memory for the previous frames */\n            if (fig.imageObj.src) {\n                (window.URL || window.webkitURL).revokeObjectURL(\n                    fig.imageObj.src\n                );\n            }\n\n            fig.imageObj.src = (window.URL || window.webkitURL).createObjectURL(\n                img\n            );\n            fig.updated_canvas_event();\n            fig.waiting = false;\n            return;\n        } else if (\n            typeof evt.data === 'string' &&\n            evt.data.slice(0, 21) === 'data:image/png;base64'\n        ) {\n            fig.imageObj.src = evt.data;\n            fig.updated_canvas_event();\n            fig.waiting = false;\n            return;\n        }\n\n        var msg = JSON.parse(evt.data);\n        var msg_type = msg['type'];\n\n        // Call the  \"handle_{type}\" callback, which takes\n        // the figure and JSON message as its only arguments.\n        try {\n            var callback = fig['handle_' + msg_type];\n        } catch (e) {\n            console.log(\n                \"No handler for the '\" + msg_type + \"' message type: \",\n                msg\n            );\n            return;\n        }\n\n        if (callback) {\n            try {\n                // console.log(\"Handling '\" + msg_type + \"' message: \", msg);\n                callback(fig, msg);\n            } catch (e) {\n                console.log(\n                    \"Exception inside the 'handler_\" + msg_type + \"' callback:\",\n                    e,\n                    e.stack,\n                    msg\n                );\n            }\n        }\n    };\n};\n\n// from http://stackoverflow.com/questions/1114465/getting-mouse-location-in-canvas\nmpl.findpos = function (e) {\n    //this section is from http://www.quirksmode.org/js/events_properties.html\n    var targ;\n    if (!e) {\n        e = window.event;\n    }\n    if (e.target) {\n        targ = e.target;\n    } else if (e.srcElement) {\n        targ = e.srcElement;\n    }\n    if (targ.nodeType === 3) {\n        // defeat Safari bug\n        targ = targ.parentNode;\n    }\n\n    // pageX,Y are the mouse positions relative to the document\n    var boundingRect = targ.getBoundingClientRect();\n    var x = e.pageX - (boundingRect.left + document.body.scrollLeft);\n    var y = e.pageY - (boundingRect.top + document.body.scrollTop);\n\n    return { x: x, y: y };\n};\n\n/*\n * return a copy of an object with only non-object keys\n * we need this to avoid circular references\n * http://stackoverflow.com/a/24161582/3208463\n */\nfunction simpleKeys(original) {\n    return Object.keys(original).reduce(function (obj, key) {\n        if (typeof original[key] !== 'object') {\n            obj[key] = original[key];\n        }\n        return obj;\n    }, {});\n}\n\nmpl.figure.prototype.mouse_event = function (event, name) {\n    var canvas_pos = mpl.findpos(event);\n\n    if (name === 'button_press') {\n        this.canvas.focus();\n        this.canvas_div.focus();\n    }\n\n    var x = canvas_pos.x * this.ratio;\n    var y = canvas_pos.y * this.ratio;\n\n    this.send_message(name, {\n        x: x,\n        y: y,\n        button: event.button,\n        step: event.step,\n        guiEvent: simpleKeys(event),\n    });\n\n    /* This prevents the web browser from automatically changing to\n     * the text insertion cursor when the button is pressed.  We want\n     * to control all of the cursor setting manually through the\n     * 'cursor' event from matplotlib */\n    event.preventDefault();\n    return false;\n};\n\nmpl.figure.prototype._key_event_extra = function (_event, _name) {\n    // Handle any extra behaviour associated with a key event\n};\n\nmpl.figure.prototype.key_event = function (event, name) {\n    // Prevent repeat events\n    if (name === 'key_press') {\n        if (event.key === this._key) {\n            return;\n        } else {\n            this._key = event.key;\n        }\n    }\n    if (name === 'key_release') {\n        this._key = null;\n    }\n\n    var value = '';\n    if (event.ctrlKey && event.key !== 'Control') {\n        value += 'ctrl+';\n    }\n    else if (event.altKey && event.key !== 'Alt') {\n        value += 'alt+';\n    }\n    else if (event.shiftKey && event.key !== 'Shift') {\n        value += 'shift+';\n    }\n\n    value += 'k' + event.key;\n\n    this._key_event_extra(event, name);\n\n    this.send_message(name, { key: value, guiEvent: simpleKeys(event) });\n    return false;\n};\n\nmpl.figure.prototype.toolbar_button_onclick = function (name) {\n    if (name === 'download') {\n        this.handle_save(this, null);\n    } else {\n        this.send_message('toolbar_button', { name: name });\n    }\n};\n\nmpl.figure.prototype.toolbar_button_onmouseover = function (tooltip) {\n    this.message.textContent = tooltip;\n};\n\n///////////////// REMAINING CONTENT GENERATED BY embed_js.py /////////////////\n// prettier-ignore\nvar _JSXTOOLS_RESIZE_OBSERVER=function(A){var t,i=new WeakMap,n=new WeakMap,a=new WeakMap,r=new WeakMap,o=new Set;function s(e){if(!(this instanceof s))throw new TypeError(\"Constructor requires 'new' operator\");i.set(this,e)}function h(){throw new TypeError(\"Function is not a constructor\")}function c(e,t,i,n){e=0 in arguments?Number(arguments[0]):0,t=1 in arguments?Number(arguments[1]):0,i=2 in arguments?Number(arguments[2]):0,n=3 in arguments?Number(arguments[3]):0,this.right=(this.x=this.left=e)+(this.width=i),this.bottom=(this.y=this.top=t)+(this.height=n),Object.freeze(this)}function d(){t=requestAnimationFrame(d);var s=new WeakMap,p=new Set;o.forEach((function(t){r.get(t).forEach((function(i){var r=t instanceof window.SVGElement,o=a.get(t),d=r?0:parseFloat(o.paddingTop),f=r?0:parseFloat(o.paddingRight),l=r?0:parseFloat(o.paddingBottom),u=r?0:parseFloat(o.paddingLeft),g=r?0:parseFloat(o.borderTopWidth),m=r?0:parseFloat(o.borderRightWidth),w=r?0:parseFloat(o.borderBottomWidth),b=u+f,F=d+l,v=(r?0:parseFloat(o.borderLeftWidth))+m,W=g+w,y=r?0:t.offsetHeight-W-t.clientHeight,E=r?0:t.offsetWidth-v-t.clientWidth,R=b+v,z=F+W,M=r?t.width:parseFloat(o.width)-R-E,O=r?t.height:parseFloat(o.height)-z-y;if(n.has(t)){var k=n.get(t);if(k[0]===M&&k[1]===O)return}n.set(t,[M,O]);var S=Object.create(h.prototype);S.target=t,S.contentRect=new c(u,d,M,O),s.has(i)||(s.set(i,[]),p.add(i)),s.get(i).push(S)}))})),p.forEach((function(e){i.get(e).call(e,s.get(e),e)}))}return s.prototype.observe=function(i){if(i instanceof window.Element){r.has(i)||(r.set(i,new Set),o.add(i),a.set(i,window.getComputedStyle(i)));var n=r.get(i);n.has(this)||n.add(this),cancelAnimationFrame(t),t=requestAnimationFrame(d)}},s.prototype.unobserve=function(i){if(i instanceof window.Element&&r.has(i)){var n=r.get(i);n.has(this)&&(n.delete(this),n.size||(r.delete(i),o.delete(i))),n.size||r.delete(i),o.size||cancelAnimationFrame(t)}},A.DOMRectReadOnly=c,A.ResizeObserver=s,A.ResizeObserverEntry=h,A}; // eslint-disable-line\nmpl.toolbar_items = [[\"Home\", \"Reset original view\", \"fa fa-home icon-home\", \"home\"], [\"Back\", \"Back to previous view\", \"fa fa-arrow-left icon-arrow-left\", \"back\"], [\"Forward\", \"Forward to next view\", \"fa fa-arrow-right icon-arrow-right\", \"forward\"], [\"\", \"\", \"\", \"\"], [\"Pan\", \"Left button pans, Right button zooms\\nx/y fixes axis, CTRL fixes aspect\", \"fa fa-arrows icon-move\", \"pan\"], [\"Zoom\", \"Zoom to rectangle\\nx/y fixes axis, CTRL fixes aspect\", \"fa fa-square-o icon-check-empty\", \"zoom\"], [\"\", \"\", \"\", \"\"], [\"Download\", \"Download plot\", \"fa fa-floppy-o icon-save\", \"download\"]];\n\nmpl.extensions = [\"eps\", \"jpeg\", \"pgf\", \"pdf\", \"png\", \"ps\", \"raw\", \"svg\", \"tif\"];\n\nmpl.default_extension = \"png\";/* global mpl */\n\nvar comm_websocket_adapter = function (comm) {\n    // Create a \"websocket\"-like object which calls the given IPython comm\n    // object with the appropriate methods. Currently this is a non binary\n    // socket, so there is still some room for performance tuning.\n    var ws = {};\n\n    ws.binaryType = comm.kernel.ws.binaryType;\n    ws.readyState = comm.kernel.ws.readyState;\n    function updateReadyState(_event) {\n        if (comm.kernel.ws) {\n            ws.readyState = comm.kernel.ws.readyState;\n        } else {\n            ws.readyState = 3; // Closed state.\n        }\n    }\n    comm.kernel.ws.addEventListener('open', updateReadyState);\n    comm.kernel.ws.addEventListener('close', updateReadyState);\n    comm.kernel.ws.addEventListener('error', updateReadyState);\n\n    ws.close = function () {\n        comm.close();\n    };\n    ws.send = function (m) {\n        //console.log('sending', m);\n        comm.send(m);\n    };\n    // Register the callback with on_msg.\n    comm.on_msg(function (msg) {\n        //console.log('receiving', msg['content']['data'], msg);\n        var data = msg['content']['data'];\n        if (data['blob'] !== undefined) {\n            data = {\n                data: new Blob(msg['buffers'], { type: data['blob'] }),\n            };\n        }\n        // Pass the mpl event to the overridden (by mpl) onmessage function.\n        ws.onmessage(data);\n    });\n    return ws;\n};\n\nmpl.mpl_figure_comm = function (comm, msg) {\n    // This is the function which gets called when the mpl process\n    // starts-up an IPython Comm through the \"matplotlib\" channel.\n\n    var id = msg.content.data.id;\n    // Get hold of the div created by the display call when the Comm\n    // socket was opened in Python.\n    var element = document.getElementById(id);\n    var ws_proxy = comm_websocket_adapter(comm);\n\n    function ondownload(figure, _format) {\n        window.open(figure.canvas.toDataURL());\n    }\n\n    var fig = new mpl.figure(id, ws_proxy, ondownload, element);\n\n    // Call onopen now - mpl needs it, as it is assuming we've passed it a real\n    // web socket which is closed, not our websocket->open comm proxy.\n    ws_proxy.onopen();\n\n    fig.parent_element = element;\n    fig.cell_info = mpl.find_output_cell(\"<div id='\" + id + \"'></div>\");\n    if (!fig.cell_info) {\n        console.error('Failed to find cell for figure', id, fig);\n        return;\n    }\n    fig.cell_info[0].output_area.element.on(\n        'cleared',\n        { fig: fig },\n        fig._remove_fig_handler\n    );\n};\n\nmpl.figure.prototype.handle_close = function (fig, msg) {\n    var width = fig.canvas.width / fig.ratio;\n    fig.cell_info[0].output_area.element.off(\n        'cleared',\n        fig._remove_fig_handler\n    );\n    fig.resizeObserverInstance.unobserve(fig.canvas_div);\n\n    // Update the output cell to use the data from the current canvas.\n    fig.push_to_output();\n    var dataURL = fig.canvas.toDataURL();\n    // Re-enable the keyboard manager in IPython - without this line, in FF,\n    // the notebook keyboard shortcuts fail.\n    IPython.keyboard_manager.enable();\n    fig.parent_element.innerHTML =\n        '<img src=\"' + dataURL + '\" width=\"' + width + '\">';\n    fig.close_ws(fig, msg);\n};\n\nmpl.figure.prototype.close_ws = function (fig, msg) {\n    fig.send_message('closing', msg);\n    // fig.ws.close()\n};\n\nmpl.figure.prototype.push_to_output = function (_remove_interactive) {\n    // Turn the data on the canvas into data in the output cell.\n    var width = this.canvas.width / this.ratio;\n    var dataURL = this.canvas.toDataURL();\n    this.cell_info[1]['text/html'] =\n        '<img src=\"' + dataURL + '\" width=\"' + width + '\">';\n};\n\nmpl.figure.prototype.updated_canvas_event = function () {\n    // Tell IPython that the notebook contents must change.\n    IPython.notebook.set_dirty(true);\n    this.send_message('ack', {});\n    var fig = this;\n    // Wait a second, then push the new image to the DOM so\n    // that it is saved nicely (might be nice to debounce this).\n    setTimeout(function () {\n        fig.push_to_output();\n    }, 1000);\n};\n\nmpl.figure.prototype._init_toolbar = function () {\n    var fig = this;\n\n    var toolbar = document.createElement('div');\n    toolbar.classList = 'btn-toolbar';\n    this.root.appendChild(toolbar);\n\n    function on_click_closure(name) {\n        return function (_event) {\n            return fig.toolbar_button_onclick(name);\n        };\n    }\n\n    function on_mouseover_closure(tooltip) {\n        return function (event) {\n            if (!event.currentTarget.disabled) {\n                return fig.toolbar_button_onmouseover(tooltip);\n            }\n        };\n    }\n\n    fig.buttons = {};\n    var buttonGroup = document.createElement('div');\n    buttonGroup.classList = 'btn-group';\n    var button;\n    for (var toolbar_ind in mpl.toolbar_items) {\n        var name = mpl.toolbar_items[toolbar_ind][0];\n        var tooltip = mpl.toolbar_items[toolbar_ind][1];\n        var image = mpl.toolbar_items[toolbar_ind][2];\n        var method_name = mpl.toolbar_items[toolbar_ind][3];\n\n        if (!name) {\n            /* Instead of a spacer, we start a new button group. */\n            if (buttonGroup.hasChildNodes()) {\n                toolbar.appendChild(buttonGroup);\n            }\n            buttonGroup = document.createElement('div');\n            buttonGroup.classList = 'btn-group';\n            continue;\n        }\n\n        button = fig.buttons[name] = document.createElement('button');\n        button.classList = 'btn btn-default';\n        button.href = '#';\n        button.title = name;\n        button.innerHTML = '<i class=\"fa ' + image + ' fa-lg\"></i>';\n        button.addEventListener('click', on_click_closure(method_name));\n        button.addEventListener('mouseover', on_mouseover_closure(tooltip));\n        buttonGroup.appendChild(button);\n    }\n\n    if (buttonGroup.hasChildNodes()) {\n        toolbar.appendChild(buttonGroup);\n    }\n\n    // Add the status bar.\n    var status_bar = document.createElement('span');\n    status_bar.classList = 'mpl-message pull-right';\n    toolbar.appendChild(status_bar);\n    this.message = status_bar;\n\n    // Add the close button to the window.\n    var buttongrp = document.createElement('div');\n    buttongrp.classList = 'btn-group inline pull-right';\n    button = document.createElement('button');\n    button.classList = 'btn btn-mini btn-primary';\n    button.href = '#';\n    button.title = 'Stop Interaction';\n    button.innerHTML = '<i class=\"fa fa-power-off icon-remove icon-large\"></i>';\n    button.addEventListener('click', function (_evt) {\n        fig.handle_close(fig, {});\n    });\n    button.addEventListener(\n        'mouseover',\n        on_mouseover_closure('Stop Interaction')\n    );\n    buttongrp.appendChild(button);\n    var titlebar = this.root.querySelector('.ui-dialog-titlebar');\n    titlebar.insertBefore(buttongrp, titlebar.firstChild);\n};\n\nmpl.figure.prototype._remove_fig_handler = function (event) {\n    var fig = event.data.fig;\n    if (event.target !== this) {\n        // Ignore bubbled events from children.\n        return;\n    }\n    fig.close_ws(fig, {});\n};\n\nmpl.figure.prototype._root_extra_style = function (el) {\n    el.style.boxSizing = 'content-box'; // override notebook setting of border-box.\n};\n\nmpl.figure.prototype._canvas_extra_style = function (el) {\n    // this is important to make the div 'focusable\n    el.setAttribute('tabindex', 0);\n    // reach out to IPython and tell the keyboard manager to turn it's self\n    // off when our div gets focus\n\n    // location in version 3\n    if (IPython.notebook.keyboard_manager) {\n        IPython.notebook.keyboard_manager.register_events(el);\n    } else {\n        // location in version 2\n        IPython.keyboard_manager.register_events(el);\n    }\n};\n\nmpl.figure.prototype._key_event_extra = function (event, _name) {\n    var manager = IPython.notebook.keyboard_manager;\n    if (!manager) {\n        manager = IPython.keyboard_manager;\n    }\n\n    // Check for shift+enter\n    if (event.shiftKey && event.which === 13) {\n        this.canvas_div.blur();\n        // select the cell after this one\n        var index = IPython.notebook.find_cell_index(this.cell_info[0]);\n        IPython.notebook.select(index + 1);\n    }\n};\n\nmpl.figure.prototype.handle_save = function (fig, _msg) {\n    fig.ondownload(fig, null);\n};\n\nmpl.find_output_cell = function (html_output) {\n    // Return the cell and output element which can be found *uniquely* in the notebook.\n    // Note - this is a bit hacky, but it is done because the \"notebook_saving.Notebook\"\n    // IPython event is triggered only after the cells have been serialised, which for\n    // our purposes (turning an active figure into a static one), is too late.\n    var cells = IPython.notebook.get_cells();\n    var ncells = cells.length;\n    for (var i = 0; i < ncells; i++) {\n        var cell = cells[i];\n        if (cell.cell_type === 'code') {\n            for (var j = 0; j < cell.output_area.outputs.length; j++) {\n                var data = cell.output_area.outputs[j];\n                if (data.data) {\n                    // IPython >= 3 moved mimebundle to data attribute of output\n                    data = data.data;\n                }\n                if (data['text/html'] === html_output) {\n                    return [cell, data, j];\n                }\n            }\n        }\n    }\n};\n\n// Register the function which deals with the matplotlib target/channel.\n// The kernel may be null if the page has been refreshed.\nif (IPython.notebook.kernel !== null) {\n    IPython.notebook.kernel.comm_manager.register_target(\n        'matplotlib',\n        mpl.mpl_figure_comm\n    );\n}\n"
     },
     "metadata": {},
     "output_type": "display_data"
    },
    {
     "data": {
      "text/plain": "<IPython.core.display.HTML object>",
      "text/html": "<div id='e2fc3f21-ea98-44b1-950c-8899905fab91'></div>"
     },
     "metadata": {},
     "output_type": "display_data"
    },
    {
     "data": {
      "text/plain": "Text(0, 0.5, 'Counts')"
     },
     "execution_count": 11,
     "metadata": {},
     "output_type": "execute_result"
    }
   ],
   "source": [
    "plt.figure()\n",
    "# with the data read in with the first routine\n",
    "plt.step(data.bin_centers, data.counts, where='mid')\n",
    "\n",
    "plt.title(\"Test spectrum\") # set title of the plot\n",
    "plt.xlabel(\"Channels\")     # set label for x-axis \n",
    "plt.ylabel(\"Counts\")       # set label for y-axis \n",
    "#plt.savefig(\"test_spectrum.png\") # This is how you save the figure. Change the extension for different file types such as pdf or png."
   ]
  },
  {
   "cell_type": "markdown",
   "metadata": {
    "pycharm": {
     "name": "#%% md\n"
    }
   },
   "source": [
    "What you have executed is actually an interactive plot. Try to move your mouse around the plot - you will notice that there are x and y values of the point under cursor diplayed in the right corner.\n",
    "\n",
    "*Note*: If the figure is too small/large for your screen, you can replace the `plt.figure()` above with `plt.figure(figsize=(12, 8))` and adjust the numbers to your liking."
   ]
  },
  {
   "cell_type": "markdown",
   "metadata": {
    "pycharm": {
     "name": "#%% md\n"
    }
   },
   "source": [
    "--------------------------------------------------------------------------------------------------------------"
   ]
  },
  {
   "cell_type": "markdown",
   "metadata": {
    "pycharm": {
     "name": "#%% md\n"
    }
   },
   "source": [
    "# 3. Analyzing the data <a name=\"fit\"></a>\n",
    "\n",
    "In $\\gamma$-ray (or other radiation) spectroscopy measurements, the goal is usually to determine the energy and the intensity of the radiation. To extract the energy of a given emission line (or use it for calibration puposes), the centroid of a peak must be determined. Area of the peak represents to the intensity of the radiation. A good way to find the peak centroid and area is to fit a Gaussian to the peak. \n",
    "\n",
    "## 3.1 Fitting a Gaussian <a name=\"gaussian\"></a>\n",
    "\n",
    "When we say that we \"fit\" a function to data, we mean that we are looking for the set of parameters to the function that give the best possible approximation of the data. The algorithm for this usually works iteratively: it starts with some initial guesses for the parameters and then varies in steps. Each time, the (squared) differences to the data are considered; once these are minimized, the algorithm returns the result to the user, typically with some additional statistical information that hints at the quality of the result.\n",
    "\n",
    "A fit therefore needs four ingredients:\n",
    "1. the data to fit (often a *subset* of the full data set, i.e. the peak region)\n",
    "* a function\n",
    "* initial guesses for its parameters, i.e. a starting point\n",
    "* an algorithm to perform the fit with\n",
    "\n",
    "In this notebook, we use the algorithm implemented by `curve_fit` from the `scipy.optimize` module for the latter. If you want, you find more detailed information in the [reference documentation to curve_fit](https://docs.scipy.org/doc/scipy/reference/generated/scipy.optimize.curve_fit.html). It uses a method called least squares which you can read about in most course literature on statistics and for instance on [Wolfram Alpha](http://mathworld.wolfram.com/LeastSquaresFitting.html).\n",
    "\n",
    "Specifically, we will fit a Gaussian function. A Gaussian function looks like this:\n",
    "$$G(x) = A\\cdot e^{\\frac{(x-\\mu)^2}{2\\sigma^2}}$$\n",
    "where\n",
    "- $A$ is a constant determing the amplitude of the peak, \n",
    "- $\\mu$ is the mean value of the peak (centroid),\n",
    "- $\\sigma$ is the standard diviation of the peak (width of the peak). \n",
    "\n",
    "Read up on the Gaussian function and its parameters here: [https://en.wikipedia.org/wiki/Gaussian_function](https://en.wikipedia.org/wiki/Gaussian_function)\n",
    "\n",
    "The following code shows how to use the function `curve_fit` to fit a peak in\n",
    "the data that was loaded in the cells above (i.e. _you will need to execute the above code\n",
    "section once before this section will work_).\n",
    "\n",
    "**You might get an error**, if you make a mistake in your initial guesses and the fit does not converge. Just double-check the values and try some others!\n",
    "\n",
    "**If it doesn't work or feels overwhelming to deal with curve_fit directly**, move on, there will be more and simpler exercises on fitting below (with error handling ;)."
   ]
  },
  {
   "cell_type": "markdown",
   "metadata": {
    "pycharm": {
     "name": "#%% md\n"
    }
   },
   "source": [
    "Here is how we difine two functions that we are going to use for our fits:"
   ]
  },
  {
   "cell_type": "code",
   "execution_count": 12,
   "metadata": {
    "pycharm": {
     "name": "#%%\n"
    }
   },
   "outputs": [],
   "source": [
    "def GaussFunc(x, A, mu, sigma):\n",
    "    return A*np.exp(-(x-mu)**2/(2.*sigma**2))\n",
    "\n",
    "def LineFunc(x, k, m):\n",
    "    return k*x+m"
   ]
  },
  {
   "cell_type": "markdown",
   "metadata": {
    "pycharm": {
     "name": "#%% md\n"
    }
   },
   "source": [
    "### 3.1.1 Manually adjusting Gaussian parameters to fit a peak <a name=\"manually\"></a>"
   ]
  },
  {
   "cell_type": "markdown",
   "metadata": {
    "pycharm": {
     "name": "#%% md\n"
    }
   },
   "source": [
    "Let's try to *manually* adjust a Gaussian to one of the two peaks on the spectrum. Execute the following cell by pressing ´Shift + Enter´. Then press Update to start changing the interactive plot. `Region_start` and `Region_stop` are the first and the last of x values for the region of your Gaussian. Adjust `mu_guess`, `A` and `sigma` parameters to do a manuall fit of your Gaussian. Remember that `mu` should be in the middle of your selected region. Do not forget to click  `Update` button to see updated plot. "
   ]
  },
  {
   "cell_type": "code",
   "execution_count": 13,
   "metadata": {
    "pycharm": {
     "name": "#%%\n"
    }
   },
   "outputs": [
    {
     "data": {
      "text/plain": "interactive(children=(IntSlider(value=1400, description='region_start', max=2000, min=1), IntSlider(value=1600…",
      "application/vnd.jupyter.widget-view+json": {
       "version_major": 2,
       "version_minor": 0,
       "model_id": "38ecd585036644ebb5cf37c2dfeec329"
      }
     },
     "metadata": {},
     "output_type": "display_data"
    }
   ],
   "source": [
    "region_start_widget = widgets.IntSlider(value=1400, min=int(data.bin_centers[1]), max=2000, step=1, description=r'region_start')\n",
    "region_stop_widget = widgets.IntSlider(value=1600, min=10, max=2000, step=1, description=r'region_stop')\n",
    "mu_widget = widgets.IntSlider(value=1500, min=1, max=2000, step=1, description=r'mu')\n",
    "A_widget = widgets.IntSlider(value=2000, min=0, max=data.counts.max(), step=1, description=r'A')\n",
    "sigma_widget = widgets.IntSlider(value=10, min=0, max=100, step=1, description=r'sigma')\n",
    "\n",
    "\n",
    "def interactive_plot_manual_Gauss(region_start, region_stop, A, mu, sigma):\n",
    "    widgetsHelper.plot_manual_gaussian(data.bin_centers, data.counts, region_start, region_stop, A, mu, sigma)\n",
    "\n",
    "interactive_plot = interactive(interactive_plot_manual_Gauss, {'manual': True, 'manual_name': \"Update\"}, region_start=region_start_widget, region_stop=region_stop_widget, mu = mu_widget, A = A_widget, sigma= sigma_widget)\n",
    "interactive_plot"
   ]
  },
  {
   "cell_type": "markdown",
   "metadata": {
    "pycharm": {
     "name": "#%% md\n"
    }
   },
   "source": [
    "### 3.1.2 Using python to fit a Gaussian for us <a name=\"notmanual\"></a>"
   ]
  },
  {
   "cell_type": "markdown",
   "metadata": {
    "pycharm": {
     "name": "#%% md\n"
    }
   },
   "source": [
    "This was probably quite a bit of work and you might not even be entirely happy with the result -- don't worry, this kind of work can be left to the computer instead!\n",
    "\n",
    "When performing a fit with the computer, it follows an algorithm similar to what you have done above. Simplified, it looks like this:\n",
    "1. start with an initial guess for the parameters\n",
    "* calculate a Gaussian with these parameters and compare to data\n",
    "* adjust the parameters and minimize the difference to the data\n",
    "\n",
    "In computer algorithm speak this is a \" $\\chi^2$ minimization\". The result are determined by the input: the data, the function to be fitted and the starting parameters. As output, you get the optimized paramters to the function and a *covariance matrix* which tells you about the quality of fit and from which you can derive uncertainties. Lucky for us, Python makes this rather simple to use!\n",
    "\n",
    "Now let's look at an interative example. Run the code below and experiment with how our initial guess of the position of peak centroid and number of points we use as input influence the result of the fit.\n",
    "\n",
    "**You do not need to change the code itself, adjust the numbers in the interactive widget instead**."
   ]
  },
  {
   "cell_type": "code",
   "execution_count": null,
   "metadata": {
    "pycharm": {
     "name": "#%%\n"
    }
   },
   "outputs": [],
   "source": [
    "region_start_widget = widgets.IntSlider(value=1400, min=1, max=2000, step=1, description=r'region_start')\n",
    "region_stop_widget = widgets.IntSlider(value=1600, min=10, max=2000, step=1, description=r'region_stop')\n",
    "mu_guess_widget = widgets.IntSlider(value=1500, min=1, max=2000, step=1, description=r'mu_guess')\n",
    "A_guess_widget = widgets.IntSlider(value=2000, min=0, max=data.counts.max(), step=1, description=r'A_guess')\n",
    "sigma_guess_widget = widgets.IntSlider(value=1, min=1, max=10, step=1, description=r'sigma_guess')\n",
    "\n",
    "def interactive_plot_curve_fit(region_start, region_stop, mu_guess, A_guess, sigma_guess):\n",
    "    fittingFunctions.perform_Gaussian_fit(data.bin_centers, data.counts, region_start, region_stop, mu_guess, A_guess, sigma_guess)\n",
    "\n",
    "interactive_plot2 = interactive(interactive_plot_curve_fit, {'manual': True, 'manual_name': \"Update\"}, region_start=region_start_widget, region_stop=region_stop_widget, mu_guess = mu_guess_widget, A_guess = A_guess_widget, sigma_guess = sigma_guess_widget)\n",
    "interactive_plot2\n"
   ]
  },
  {
   "cell_type": "markdown",
   "metadata": {
    "pycharm": {
     "name": "#%% md\n"
    }
   },
   "source": [
    "### Just one line of code <a name=\"code_gauss\"></a>\n",
    "\n",
    "To produce the same results you can just use the function `perform_Gaussian_fit` from `fittingFunctions` package. \n",
    "\n",
    "\n",
    "**You can just copy the following cell and use it in your Jupyter Notebooks with solutions for laboratories.** Just adjust the input parameters as needed!"
   ]
  },
  {
   "cell_type": "code",
   "execution_count": null,
   "metadata": {
    "pycharm": {
     "name": "#%%\n"
    }
   },
   "outputs": [],
   "source": [
    "peak1 = fittingFunctions.perform_Gaussian_fit(x=data.bin_centers, \n",
    "                                              y=data.counts,      \n",
    "                                              region_start=780,   # bins where to start fitting\n",
    "                                              region_stop=880,    # bins where to stop fitting\n",
    "                                              mu_guess=830,       # guess for the position of peak centroid\n",
    "                                              A_guess=8000,       # guess for the amplitude of the peak\n",
    "                                              sigma_guess=1)      # guess for the sigma"
   ]
  },
  {
   "cell_type": "markdown",
   "metadata": {
    "pycharm": {
     "name": "#%% md\n"
    }
   },
   "source": [
    "What you got in the previous cell is `peak1` which is an object of type `Gauss` from the `fittingFunctions` package. It is a convenient way of storing the variables related  to one of your fits (A, mu, sigma, coveriance matrix) together. It improves code readibility and also allows you to keep track of all your variables easier, since for some of the labs you have many peaks, so you can call your varibles more meaningful name. "
   ]
  },
  {
   "cell_type": "code",
   "execution_count": null,
   "metadata": {
    "pycharm": {
     "name": "#%%\n"
    }
   },
   "outputs": [],
   "source": [
    "# That's how you use peak1 object: \n",
    "print(\"Varibles stored in peak1: A={:.5f}, mu={:.5f} and sigma={:.5f}\".format(peak1.A, peak1.mu, peak1.sigma))"
   ]
  },
  {
   "cell_type": "code",
   "execution_count": null,
   "metadata": {
    "pycharm": {
     "name": "#%%\n"
    }
   },
   "outputs": [],
   "source": [
    "# You can also just print everything stored in peak1 by using following line: \n",
    "peak1.print_full_info()"
   ]
  },
  {
   "cell_type": "markdown",
   "metadata": {
    "pycharm": {
     "name": "#%% md\n"
    }
   },
   "source": [
    "You can see that your values of `A`, `sigma` and `mu` come with uncertainty calculated for you by `curve_fit` function and stored in the `covariance_matrix`, where  σ²(A) = `covariance_matrix[0][0]`, σ²(mu) = `covariance_matrix[1][1]` and σ²(sigma) = `covariance_matrix[2][2]`. "
   ]
  },
  {
   "cell_type": "markdown",
   "metadata": {
    "pycharm": {
     "name": "#%% md\n"
    }
   },
   "source": [
    "### \"Behind the curtains\"\n",
    "\n",
    "*This section is only for the curious! Feel free to skip it :)*\n",
    "\n",
    "If you want to look a little bit deeper into how to perform fits in Python yourself, the code below will show you what our routines do when you call `perform_gaussian_fit` above. All the heavy lifting is done by SciPy's `curve_fit` which is a powerful and versatile tool. If you use it directly, you can fit any curve to data not just Gaussians. Of course, there are many examples online, this should just help you get started!"
   ]
  },
  {
   "cell_type": "code",
   "execution_count": null,
   "metadata": {
    "attributes": {
     "classes": [],
     "id": "",
     "n": "6"
    },
    "pycharm": {
     "name": "#%%\n"
    }
   },
   "outputs": [],
   "source": [
    "##### Preparing out inputs to the algorithm:\n",
    "\n",
    "### 1. define the data to fit\n",
    "# define limits to the data (only want to fit peak!)\n",
    "region_start = 780  # bins where to start fitting\n",
    "region_stop  = 880  # bins where to stop fitting\n",
    "# these define a region of interest in our data binning:\n",
    "region = (region_start < data.bin_centers) & (data.bin_centers < region_stop)\n",
    "# now limit our data by 'slicing' it, limiting it to the region of interest:\n",
    "peak_region_bc     = data.bin_centers[region]\n",
    "peak_region_counts = data.counts[region]\n",
    "\n",
    "\n",
    "### 2. the function\n",
    "def GaussFunc(x, A, mu, sigma):\n",
    "    return A*np.exp(-(x-mu)**2/(2.*sigma**2))\n",
    "\n",
    "\n",
    "### 3. our initial guesses:\n",
    "mu_guess = 830                    # a guess for the position of peak centroid\n",
    "A_guess = 8000                    # a guess for the amplitude of the peak \n",
    "sigma_guess = 1\n",
    "         \n",
    "guess = [A_guess, mu_guess, sigma_guess] # our initial guess of parameters for a Gaussian fit \n",
    "\n",
    "### 4. Now we can perform the fit using curve_fit:\n",
    "\n",
    "estimates, covar_matrix = curve_fit(GaussFunc,           # name of the function\n",
    "                                    peak_region_bc,      # your xdata\n",
    "                                    peak_region_counts,  # your ydata\n",
    "                                    p0=guess)            # initial guess for the parameters\n",
    "\n",
    "A, mu, sigma = estimates[0], estimates[1], estimates[2] # unpack results\n",
    "\n",
    "### Plot your Gaussian fit\n",
    "plt.figure()\n",
    "plt.step(peak_region_bc, peak_region_counts, where='mid', label='data')                   # plotting the data \n",
    "plt.plot(peak_region_bc, GaussFunc(peak_region_bc, A, mu, sigma), 'forestgreen', label = 'Gaussian fit') # plotting the fit\n",
    "plt.legend() # adds a legend with all 'label'ed plots!\n",
    "\n",
    "### Print information about the resulting parameters\n",
    "print(\"Estimated parameters:\\n A = {:.5f}, mu = {:.5f},  sigma = {:.5f} \\n\".format(A, mu, sigma))\n",
    "print(\"Uncertainties in the estimated parameters: \\n \\u03C3\\u00b2(A) = {:.5f}, \\u03C3\\u00b2(mu) = {:.5f}, \\u03C3\\u00b2(sigma) = {:.5f} \\n\".format(covar_matrix[0][0], covar_matrix[1][1], covar_matrix[2][2]))\n",
    "print(\"Covariance matrix: \\n {}\".format(covar_matrix))\n"
   ]
  },
  {
   "cell_type": "markdown",
   "metadata": {
    "pycharm": {
     "name": "#%% md\n"
    }
   },
   "source": [
    "### 3.1.3 Improving your fit - accounting for a linear background  <a name=\"background\"></a>\n",
    "Maybe you noted that the data we fitted before weren't entirely Gaussian in shape. Even our best fit is put off by that and the results will not be as acurate.\n",
    "\n",
    "Often in such cases we want to subtract the background from our peak. The peak may, for example, be on the Compton continuum of other peaks higher in energy. Furthermore, this step is needed to be able to correctly determine the intensity of the peak.\n",
    "\n",
    "As a \"first order approach\" our strategy will be to assume a *linear* background and to determine its parameters just around the peak we are interested in. We will therefore perform *two* fits: one to the linear background in two regions around the peak as well as a Gaussian fit to the peak *minus* the before derived linear background function. This will noticably improve the quality of the fit. Play with the values and test how stable the result is!"
   ]
  },
  {
   "cell_type": "code",
   "execution_count": null,
   "metadata": {
    "pycharm": {
     "name": "#%%\n"
    }
   },
   "outputs": [],
   "source": [
    "region_start_widget = widgets.IntSlider(value=750, min=1, max=2000, step=1, description=r'region_start')\n",
    "region_stop_widget = widgets.IntSlider(value=900, min=10, max=2000, step=1, description=r'region_stop')\n",
    "mu_guess_widget = widgets.IntSlider(value=800, min=1, max=2000, step=1, description=r'mu_guess')\n",
    "A_guess_widget = widgets.IntSlider(value=1700, min=0, max=data.counts.max(), step=1, description=r'A_guess')\n",
    "sigma_guess_widget = widgets.IntSlider(value=1, min=1, max=10, step=1, description=r'sigma_guess')\n",
    "left_selection_widget = widgets.IntRangeSlider(value=[760, 770], min=region_start_widget.value, max=region_stop_widget.value, description=r'left_selection')\n",
    "right_selection_widget = widgets.IntRangeSlider(value=[870, 880], min=region_start_widget.value, max=region_stop_widget.value, description=r'right_selection')\n",
    "\n",
    "def interactive_plot_line_fit(region_start, region_stop, mu_guess, A_guess, sigma_guess, left_selection, right_selection):\n",
    "    fittingFunctions.perform_Gaussian_fit(data.bin_centers, data.counts, region_start, region_stop, mu_guess, A_guess, sigma_guess, left_selection, right_selection)\n",
    "\n",
    "interactive_plot3 = interactive(interactive_plot_line_fit, {'manual': True, 'manual_name': \"Update\"}, region_start=region_start_widget, region_stop=region_stop_widget, mu_guess = mu_guess_widget, A_guess = A_guess_widget, sigma_guess = sigma_guess_widget, left_selection=left_selection_widget, right_selection=right_selection_widget)\n",
    "interactive_plot3"
   ]
  },
  {
   "cell_type": "markdown",
   "metadata": {
    "pycharm": {
     "name": "#%% md\n"
    }
   },
   "source": [
    "### With just one line of code:  <a name=\"code_background\"></a>\n",
    "\n",
    "To make a Gaussian fit that takes into account the background just use a function `perform_Gaussian_fit` from `fittingFunctions` package with specifying `left_selection` and `right_selection` arrays. *In case you are interested in how the fit was performed you have a look on the function ``perform_Gaussian_fit`` in [fittingFunctions.py](./lib/fittingFunctions.py).*\n",
    "\n",
    "\n",
    "**You can just copy the following cell and use it in your Jupyter Notebooks with solutions for laboratories.** Be sure to adjust the parameters to your needs."
   ]
  },
  {
   "cell_type": "code",
   "execution_count": null,
   "metadata": {
    "pycharm": {
     "name": "#%%\n"
    }
   },
   "outputs": [],
   "source": [
    "gauss = fittingFunctions.perform_Gaussian_fit(x = data.bin_centers, \n",
    "                                              y = data.counts,\n",
    "                                              # region to use\n",
    "                                              region_start = 750, \n",
    "                                              region_stop = 900,\n",
    "                                              # initial guesses\n",
    "                                              mu_guess = 800, \n",
    "                                              A_guess = 1680, \n",
    "                                              sigma_guess = 2,\n",
    "                                              # regions for linear background fitting/subtraction:\n",
    "                                              left_selection = [760, 770], \n",
    "                                              right_selection = [870, 880])"
   ]
  },
  {
   "cell_type": "markdown",
   "metadata": {
    "pycharm": {
     "name": "#%% md\n"
    }
   },
   "source": [
    "### \"Behind the curtains\"\n",
    "\n",
    "*Again, this section is only for anyone curious about the details!*\n",
    "\n",
    "As before, we are using `curve_fit` to actually perform the fits. This time, we use it twice: once for the linear fit to the background, then for the Gaussian fit to the data minus the background."
   ]
  },
  {
   "cell_type": "code",
   "execution_count": null,
   "metadata": {
    "pycharm": {
     "name": "#%%\n"
    }
   },
   "outputs": [],
   "source": [
    "# define limits to the data (only want to fit peak!)\n",
    "region_start = 750  # bins where to start fitting\n",
    "region_stop  = 900  # bins where to stop fitting\n",
    "# these define a region of interest in our data binning:\n",
    "region = (region_start < data.bin_centers) & (data.bin_centers < region_stop)\n",
    "# now limit our data by 'slicing' it, limiting it to the region of interest:\n",
    "peak_region_bc     = data.bin_centers[region]\n",
    "peak_region_counts = data.counts[region]\n",
    "# let's select channels on both sides of our fit to which we want to fit our line: \n",
    "left_selection = [760, 770]\n",
    "right_selection = [870, 880]\n",
    "\n",
    "############ Selecting points to fit linear function\n",
    "# select a region with logic statement:\n",
    "lin_region = ((data.bin_centers>left_selection[0]) & (data.bin_centers<left_selection[1])) | ((data.bin_centers>right_selection[0]) & (data.bin_centers<right_selection[1]))\n",
    "lin_bc = data.bin_centers[lin_region]\n",
    "lin_counts = data.counts[lin_region]\n",
    "\n",
    "\n",
    "############ Fitting linear function to selected points\n",
    "\n",
    "guess = [2, 1]\n",
    "\n",
    "estimates_lin, covar_matrix = curve_fit(fittingFunctions.LineFunc,\n",
    "                                    lin_bc,\n",
    "                                    lin_counts,\n",
    "                                    p0 = guess)\n",
    "\n",
    "\n",
    "############ Subtracting the linear background\n",
    "\n",
    "line = LineFunc(peak_region_bc, estimates_lin[0], estimates_lin[1])\n",
    "peak_region_counts_subs = peak_region_counts - line\n",
    "\n",
    "############ Fit the Gaussian to the peak without backround\n",
    "\n",
    "guess = [A_guess, mu_guess, sigma_guess]\n",
    "\n",
    "estimates, covar_matrix = curve_fit(fittingFunctions.GaussFunc,\n",
    "                                    peak_region_bc,\n",
    "                                    peak_region_counts_subs,\n",
    "                                    p0=guess)\n",
    "A, mu, sigma = estimates[0], estimates[1], estimates[2] # unpack results\n",
    "\n",
    "peak1 = fittingFunctions.Gauss(estimates[0], estimates[1], estimates[2], covar_matrix)\n",
    "\n",
    "############ Plotting results \n",
    "# TODO : this is quite a wall of values -- can this be simplified?\n",
    "plt.figure()\n",
    "plt.step(peak_region_bc, peak_region_counts, where='mid', color='cornflowerblue', label='data') #plotting data\n",
    "plt.vlines(left_selection+right_selection, ymin=0, ymax=peak1.A)  #plot support lines around selected points \n",
    "plt.plot(peak_region_bc, line + GaussFunc(peak_region_bc, peak1.A, peak1.mu, peak1.sigma), color='forestgreen', label = 'Gaussian fit')  # plot Gaussian \n",
    "plt.plot(lin_bc, LineFunc(lin_bc, estimates_lin[0], estimates_lin[1]), color='r', label = 'linear fit', alpha=0.6)  # plot linear fit\n",
    "\n",
    "########### Printing results\n",
    "print(\"Linear fit estimates (k m) = (\", estimates_lin[0], estimates_lin[1], \")\\n\")\n",
    "print(\"Estimates of (A mu sigma) = (\", peak1.A, peak1.mu, peak1.sigma, \")\\n\")\n",
    "print(\"Covariance matrix = \\n\", peak1.covar_matrix, \"\\n\")\n",
    "print(\"Uncertainties in the estimated parameters: \\n[ sigma^2(A) sigma^2(mu), sigma^2(sigma) ] = \\n[\", peak1.covar_matrix[0][0], peak1.covar_matrix[1][1], peak1.covar_matrix[2][2], \"]\" )\n"
   ]
  },
  {
   "cell_type": "markdown",
   "metadata": {
    "pycharm": {
     "name": "#%% md\n"
    }
   },
   "source": [
    "### Practice time "
   ]
  },
  {
   "cell_type": "markdown",
   "metadata": {
    "pycharm": {
     "name": "#%% md\n"
    }
   },
   "source": [
    "Now, since we know how to fit a peak, lets practice with the second peak on our test spectrum. Adjust the parameters to improve the current state of the fit:"
   ]
  },
  {
   "cell_type": "code",
   "execution_count": null,
   "metadata": {
    "pycharm": {
     "name": "#%%\n"
    }
   },
   "outputs": [],
   "source": [
    "#Let's select channels on both sides of our fit to which we want to fit our line: \n",
    "left_selection = [800, 900]\n",
    "right_selection = [1100, 1200]\n",
    "\n",
    "#And usual parameters:\n",
    "region_start = 800 # bins where to start fitting\n",
    "region_stop = 1150  # bins where to stop fitting\n",
    "\n",
    "mu_guess = 900 # a guess for the position of peak centroid\n",
    "A_guess = 2000  # a guess for the amplitude of the peak \n",
    "sigma_guess = 10 # a guess for the sigma\n",
    "\n",
    "peak2 = fittingFunctions.perform_Gaussian_fit(data.bin_centers, data.counts, region_start, region_stop, mu_guess, A_guess, sigma_guess, left_selection, right_selection)"
   ]
  },
  {
   "cell_type": "markdown",
   "metadata": {
    "pycharm": {
     "name": "#%% md\n"
    }
   },
   "source": [
    "## 3.2 Compute a peak area - Intensity calculations <a name=\"peak_area\"></a>"
   ]
  },
  {
   "cell_type": "markdown",
   "metadata": {
    "pycharm": {
     "name": "#%% md\n"
    }
   },
   "source": [
    "In gamma spectroscopy the area of the peak is determined by the intensity of the gamma ray and the efficiency of the detector. There are different ways of how to calculate the area of a peak in a spectrum. The by far easiest method is to calculate the area of the fitted Gaussian function (see [https://en.wikipedia.org/wiki/Gaussian_function](https://en.wikipedia.org/wiki/Gaussian_function)). Now that we actually have our Gaussian parameters we can use them for the intensity calculations. "
   ]
  },
  {
   "cell_type": "code",
   "execution_count": null,
   "metadata": {
    "pycharm": {
     "name": "#%%\n"
    }
   },
   "outputs": [],
   "source": [
    "Area = np.sqrt(2*np.pi)*peak2.A*np.abs(peak2.sigma)\n",
    "print('Area of the second peak is {:.2f}'.format(Area))"
   ]
  },
  {
   "cell_type": "markdown",
   "metadata": {
    "pycharm": {
     "name": "#%% md\n"
    }
   },
   "source": [
    "## 3.3 Fit a line - Energy calibration <a name=\"line\"></a>\n",
    "\n",
    "In spectroscopy experiments it is often essential to calibrate the detector response with respect to a known energies emitted from a so called calibration source. The relationship between the detector response and the energy is mostly assumed linear. The code below exemplifies how to estimate the linear calibration for 'random data'."
   ]
  },
  {
   "cell_type": "markdown",
   "metadata": {
    "pycharm": {
     "name": "#%% md\n"
    }
   },
   "source": [
    "### 3.3.1 Find calibration coefficients <a name=\"coeff\"></a>"
   ]
  },
  {
   "cell_type": "markdown",
   "metadata": {
    "pycharm": {
     "name": "#%% md\n"
    }
   },
   "source": [
    "To perform an energy calibration we need to \"match\" energies of the peaks to the peaks centroids we caculated with our Gaussian fits. "
   ]
  },
  {
   "cell_type": "markdown",
   "metadata": {
    "pycharm": {
     "name": "#%% md\n"
    }
   },
   "source": [
    "Our spectrum is actually **Co-60** source which emits gammas with **energies** of 1173.228 keV and 1332.492 keV :"
   ]
  },
  {
   "cell_type": "code",
   "execution_count": null,
   "metadata": {
    "pycharm": {
     "name": "#%%\n"
    }
   },
   "outputs": [],
   "source": [
    "# we define them as Numpy arrays, as these are easier to use in calculations than lists:\n",
    "energy = np.array([1173.228, 1332.492])"
   ]
  },
  {
   "cell_type": "markdown",
   "metadata": {
    "pycharm": {
     "name": "#%% md\n"
    }
   },
   "source": [
    "We fitted two of our peaks, so we know their peak centroids: "
   ]
  },
  {
   "cell_type": "code",
   "execution_count": null,
   "metadata": {
    "pycharm": {
     "name": "#%%\n"
    }
   },
   "outputs": [],
   "source": [
    "channels = np.array([peak1.mu, peak2.mu])"
   ]
  },
  {
   "cell_type": "code",
   "execution_count": null,
   "metadata": {
    "pycharm": {
     "name": "#%%\n"
    }
   },
   "outputs": [],
   "source": [
    "### 1. define the data to fit\n",
    "# see energy and channels in the cells above\n",
    "\n",
    "### 2. the function\n",
    "def LineFunc(x, k, m):\n",
    "    return k*x+m\n",
    "\n",
    "### 3. our intial guess \n",
    "guess = [2, # k\n",
    "         1] # m\n",
    "\n",
    "### 4. now we can perform the fit using curve_fit:\n",
    "estimates, covar_matrix = curve_fit(LineFunc,\n",
    "                                    channels,\n",
    "                                    energy,\n",
    "                                    p0 = guess)\n",
    "\n",
    "k = estimates[0] # unpack our values \n",
    "m = estimates[1] # unpack our values \n",
    "\n",
    "print(\"Estimates of k = {:.2f} and  m = {:.2f}\".format(k, m))\n",
    "\n",
    "### Plot your Gaussian fit\n",
    "plt.figure()\n",
    "plt.plot(channels, energy, linestyle=\"\", marker=\"*\", label='data points')\n",
    "plt.plot(channels, LineFunc(channels, k, m), label='linear fit')\n",
    "plt.legend(loc='upper left')\n",
    "plt.title(\"Energy calibration\") # set title of the plot\n",
    "plt.xlabel(\"Channels\")     # set label for x-axis \n",
    "plt.ylabel(\"Energy\")       # set label for y-axis \n",
    "plt.show()"
   ]
  },
  {
   "cell_type": "markdown",
   "metadata": {
    "pycharm": {
     "name": "#%% md\n"
    }
   },
   "source": [
    "*Note*: You might see a warning from the fit: this is due to the low number of data points we use in this \"fit\"."
   ]
  },
  {
   "cell_type": "markdown",
   "metadata": {
    "pycharm": {
     "name": "#%% md\n"
    }
   },
   "source": [
    "### Apply calibration <a name=\"application\"></a>"
   ]
  },
  {
   "cell_type": "markdown",
   "metadata": {
    "pycharm": {
     "name": "#%% md\n"
    }
   },
   "source": [
    "You can apply an energy calibration to you data in the next way:"
   ]
  },
  {
   "cell_type": "code",
   "execution_count": null,
   "metadata": {
    "pycharm": {
     "name": "#%%\n"
    }
   },
   "outputs": [],
   "source": [
    "data.calibrate(k, m) ### which means data.energy = data.bin_centers * k + m "
   ]
  },
  {
   "cell_type": "code",
   "execution_count": null,
   "metadata": {
    "pycharm": {
     "name": "#%%\n"
    }
   },
   "outputs": [],
   "source": [
    "plt.figure()\n",
    "# with the data read in with the first routine\n",
    "plt.step(data.energy, data.counts, where='mid', label='Calibrated data')\n",
    "\n",
    "plt.title(\"Calibrated Co-60 spectrum\") # set title of the plot\n",
    "plt.xlabel(\"Energy, keV\")     # set label for x-axis \n",
    "plt.ylabel(\"Counts\")          # set label for y-axis \n",
    "plt.legend()                  # enables legend for all plots with a 'label'\n",
    "#plt.savefig(\"test_spectrum.png\") # This is how you save the figure. Change the extension for different file types such as pdf or png."
   ]
  },
  {
   "cell_type": "markdown",
   "metadata": {
    "pycharm": {
     "name": "#%% md\n"
    }
   },
   "source": [
    "# 4. Take away <a name=\"away\"></a>"
   ]
  },
  {
   "cell_type": "markdown",
   "metadata": {
    "tags": [
     "read"
    ],
    "pycharm": {
     "name": "#%% md\n"
    }
   },
   "source": [
    "The aim of this notebook is to be **a usefull tool** for you to use during your labs. \n",
    "\n",
    "Remember, the goal is not to teach you programming, but rather to introduce you to it and show how Python as one of many programming languages could make lives of physicists easier. And as a physicist, it is always good to have many tools available in your toolbelt!\n",
    "\n",
    "This time, we did all the programming for you and prepared Jupyter Notebooks for each lab, so that you have more time to focus on the physics :) "
   ]
  }
 ],
 "metadata": {
  "hide_input": false,
  "kernelspec": {
   "display_name": "Python 3",
   "language": "python",
   "name": "python3"
  },
  "language_info": {
   "codemirror_mode": {
    "name": "ipython",
    "version": 3
   },
   "file_extension": ".py",
   "mimetype": "text/x-python",
   "name": "python",
   "nbconvert_exporter": "python",
   "pygments_lexer": "ipython3",
   "version": "3.8.0"
  },
  "latex_envs": {
   "LaTeX_envs_menu_present": true,
   "autoclose": false,
   "autocomplete": true,
   "bibliofile": "biblio.bib",
   "cite_by": "apalike",
   "current_citInitial": 1,
   "eqLabelWithNumbers": true,
   "eqNumInitial": 1,
   "hotkeys": {
    "equation": "Ctrl-E",
    "itemize": "Ctrl-I"
   },
   "labels_anchors": false,
   "latex_user_defs": false,
   "report_style_numbering": false,
   "user_envs_cfg": false
  },
  "toc": {
   "base_numbering": 1,
   "nav_menu": {},
   "number_sections": true,
   "sideBar": true,
   "skip_h1_title": false,
   "title_cell": "Table of Contents",
   "title_sidebar": "Contents",
   "toc_cell": false,
   "toc_position": {},
   "toc_section_display": true,
   "toc_window_display": false
  }
 },
 "nbformat": 4,
 "nbformat_minor": 4
}