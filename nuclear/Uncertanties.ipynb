{
 "cells": [
  {
   "cell_type": "markdown",
   "metadata": {
    "pycharm": {
     "name": "#%% md\n"
    }
   },
   "source": [
    "# Uncertainties in python (simple examples)\n",
    "\n",
    "(from the Example in the guides prepared by Dirk)"
   ]
  },
  {
   "cell_type": "code",
   "execution_count": 1,
   "metadata": {
    "pycharm": {
     "name": "#%%\n"
    }
   },
   "outputs": [],
   "source": [
    "from uncertainties import ufloat\n",
    "from uncertainties.umath import *  # sin(), etc."
   ]
  },
  {
   "cell_type": "markdown",
   "metadata": {
    "pycharm": {
     "name": "#%% md\n"
    }
   },
   "source": [
    "## Ratio of quantities\n",
    "\n",
    "Determine $R=\\frac{Y(511\\,\\text{keV})}{2Y(1275\\,\\text{keV})}$\n"
   ]
  },
  {
   "cell_type": "code",
   "execution_count": 2,
   "metadata": {
    "pycharm": {
     "name": "#%%\n"
    }
   },
   "outputs": [],
   "source": [
    "Y1 = [ufloat(203500, sqrt(203500)),\n",
    "      ufloat(220100, sqrt(220100)),\n",
    "      ufloat(157400, sqrt(157400)),\n",
    "      ufloat(188300, sqrt(188300))]\n",
    "Y2 = [ufloat(115500, sqrt(115500)),\n",
    "      ufloat(121100, sqrt(121100)),\n",
    "      ufloat(89100, sqrt(89100)),\n",
    "      ufloat(107200, sqrt(107200))]"
   ]
  },
  {
   "cell_type": "code",
   "execution_count": 3,
   "metadata": {
    "pycharm": {
     "name": "#%%\n"
    }
   },
   "outputs": [
    {
     "name": "stdout",
     "output_type": "stream",
     "text": [
      "ratio 0: 0.8810(32)\n",
      "ratio 1: 0.9088(33)\n",
      "ratio 2: 0.8833(37)\n",
      "ratio 3: 0.8783(34)\n",
      "average: 0.8878(17)\n"
     ]
    }
   ],
   "source": [
    "sum = 0\n",
    "for i in range(len(Y1)):\n",
    "    ratio = Y1[i] / (2 * Y2[i])\n",
    "    sum += ratio * 0.25\n",
    "    print(\"ratio {}: {:.2uS}\".format(i, ratio))  # 2 digits in unceirtainty, Short hand notation\n",
    "print(\"average: {:.2uS}\".format(sum))"
   ]
  },
  {
   "cell_type": "markdown",
   "metadata": {
    "pycharm": {
     "name": "#%% md\n"
    }
   },
   "source": [
    "## Calibration\n",
    "\n",
    "Here we also show another way to input values with unceirtanties"
   ]
  },
  {
   "cell_type": "code",
   "execution_count": 4,
   "metadata": {
    "pycharm": {
     "name": "#%%\n"
    }
   },
   "outputs": [],
   "source": [
    "from uncertainties import ufloat_fromstr\n",
    "\n",
    "y_i = [\n",
    "    ufloat_fromstr(\"279.2\"),\n",
    "    ufloat_fromstr(\"511.0\"),\n",
    "    ufloat_fromstr(\"1274.5\"),\n",
    "    ufloat_fromstr(\"2614.5\"),\n",
    "]\n",
    "x_i = [\n",
    "    ufloat_fromstr(\"107.1(5)\"),\n",
    "    ufloat_fromstr(\"180.1(7)\"),\n",
    "    ufloat_fromstr(\"421.3(11)\"),\n",
    "    ufloat_fromstr(\"841.9(18)\"),\n",
    "]\n",
    "\n",
    "y = [i.n for i in y_i]  # n -> nominal value\n",
    "dy = [i.s for i in y_i]  # s -> standard deviation\n",
    "\n",
    "x = [i.n for i in x_i]  # n -> nominal value\n",
    "dx = [i.s for i in x_i]  # s -> standard deviation"
   ]
  },
  {
   "cell_type": "code",
   "execution_count": 6,
   "metadata": {
    "pycharm": {
     "name": "#%%\n"
    }
   },
   "outputs": [
    {
     "data": {
      "text/plain": "<Figure size 432x288 with 1 Axes>",
      "image/png": "[encoded data removed]"
     },
     "metadata": {
      "needs_background": "light"
     },
     "output_type": "display_data"
    }
   ],
   "source": [
    "import matplotlib\n",
    "import numpy as np\n",
    "import matplotlib.pyplot as plt\n",
    "%matplotlib inline\n",
    "\n",
    "fig = plt.figure()\n",
    "fig.suptitle(\"Energy calibration\", fontsize=14, fontweight='bold')\n",
    "\n",
    "ax = fig.add_subplot(111)\n",
    "fig.subplots_adjust(top=0.85)\n",
    "\n",
    "ax.set_xlabel(\"channel [a.u.]\")\n",
    "ax.set_ylabel(\"Energy [keV]\")\n",
    "\n",
    "# plot dots\n",
    "plt.scatter(x, y)\n",
    "#plot with error bars. OBS: They are smaller than the scatter dot.\n",
    "plt.errorbar(x, y, xerr=dx, yerr=dy, linestyle=':')\n",
    "\n",
    "plt.show()"
   ]
  },
  {
   "cell_type": "markdown",
   "metadata": {
    "pycharm": {
     "name": "#%% md\n"
    }
   },
   "source": [
    "# Let's so some fitting"
   ]
  },
  {
   "cell_type": "markdown",
   "metadata": {
    "pycharm": {
     "name": "#%% md\n"
    }
   },
   "source": [
    "## Attempt 1: (WRONG ONE) No errors included\n",
    "### Using linregress - Pico does not approve ;-)"
   ]
  },
  {
   "cell_type": "code",
   "execution_count": 7,
   "metadata": {
    "pycharm": {
     "name": "#%%\n"
    }
   },
   "outputs": [
    {
     "name": "stdout",
     "output_type": "stream",
     "text": [
      " E = 3.2*ch + -62.0\n"
     ]
    }
   ],
   "source": [
    "from scipy import stats\n",
    "import numpy as np\n",
    "\n",
    "b, a, r_value, p_value, std_err = stats.linregress(x, y)\n",
    "print(\" E = {:.1f}*ch + {:.1f}\".format(b, a))\n",
    "## not a clue on how to estimate the errors =(\n",
    "## I think std_err it is the error of the slope only, error for offset?"
   ]
  },
  {
   "cell_type": "markdown",
   "metadata": {
    "pycharm": {
     "name": "#%% md\n"
    }
   },
   "source": [
    "## Attempt 2: (STILL WRONG) Errors only in one axis\n",
    "### Using curve_fit - Pico approves ;-)"
   ]
  },
  {
   "cell_type": "code",
   "execution_count": 10,
   "metadata": {
    "pycharm": {
     "name": "#%%\n"
    }
   },
   "outputs": [
    {
     "name": "stdout",
     "output_type": "stream",
     "text": [
      "\n",
      "# Fit parameters and parameter errors from curve_fit method :\n",
      "pfit =  [-61.96861944   3.17793761]\n",
      "perr =  [1.65069473 0.00342302]\n",
      "a = -62.0(1.7)\n",
      "b = 3.1779(34)\n",
      "E = 660.4(1.8)\n",
      "\n",
      "# Fit parameters and parameter errors from curve_fit method :\n",
      "pfit =  [-61.96861944   3.17793761]\n",
      "perr =  [1.65069473 0.00342302]\n",
      "a = -62.0(1.7)\n",
      "b = 3.1779(34)\n",
      "E = 660.4(1.8)\n"
     ]
    }
   ],
   "source": [
    "import numpy as np\n",
    "from scipy import optimize\n",
    "\n",
    "\n",
    "def f(x, a, b):\n",
    "    \"a line\"\n",
    "    return a + b * x\n",
    "\n",
    "\n",
    "def ff(x, p):\n",
    "    \"helper function\"\n",
    "    return f(x, *p)\n",
    "\n",
    "\n",
    "# initial guesses\n",
    "a = 0\n",
    "b = 1\n",
    "\n",
    "pstart = [a, b]\n",
    "\n",
    "\n",
    "def fit_curvefit(p0, datax, datay, function, yerr=None, **kwargs):\n",
    "    \"Generic fitting function for when one has errors or not in the input data\"\n",
    "\n",
    "    if yerr is not None:\n",
    "        pfit, pcov = optimize.curve_fit(f, datax, datay, p0=p0, sigma=yerr, epsfcn=0.0001, **kwargs)\n",
    "    else:\n",
    "        pfit, pcov = optimize.curve_fit(f, datax, datay, p0=p0, epsfcn=0.0001, **kwargs)\n",
    "\n",
    "    error = []\n",
    "    for i in range(len(pfit)):\n",
    "        try:\n",
    "            error.append(np.absolute(pcov[i][i]) ** 0.5)\n",
    "        except:\n",
    "            error.append(0.00)\n",
    "    pfit_curvefit = pfit\n",
    "    perr_curvefit = np.array(error)\n",
    "    return pfit_curvefit, perr_curvefit\n",
    "\n",
    "pfit, perr = fit_curvefit(pstart, x, y, ff)\n",
    "\n",
    "print(\"\\n# Fit parameters and parameter errors from curve_fit method :\")\n",
    "print(\"pfit = \", pfit)\n",
    "print(\"perr = \", perr)\n",
    "a = ufloat(pfit[0], perr[0])\n",
    "b = ufloat(pfit[1], perr[1])\n",
    "print(\"a = {:S}\".format(a))\n",
    "print(\"b = {:S}\".format(b))\n",
    "\n",
    "E = a + 227.3 * b\n",
    "print(\"E = {:S}\".format(E))\n",
    "\n",
    "pfit, perr = fit_curvefit(pstart, x, y, ff, dy)\n",
    "\n",
    "print(\"\\n# Fit parameters and parameter errors from curve_fit method :\")\n",
    "print(\"pfit = \", pfit)\n",
    "print(\"perr = \", perr)\n",
    "a = ufloat(pfit[0], perr[0])\n",
    "b = ufloat(pfit[1], perr[1])\n",
    "print(\"a = {:S}\".format(a))\n",
    "print(\"b = {:S}\".format(b))\n",
    "\n",
    "E = a + 227.3 * b\n",
    "print(\"E = {:S}\".format(E))\n",
    "\n",
    "\n",
    "### Results with y-errors included\n",
    "# Fit parameters and parameter errors from curve_fit method :\n",
    "#pfit =  [-61.96861944   3.17793761]\n",
    "#perr =  [1.65069473 0.00342302]\n",
    "#a = -62.0(1.7)\n",
    "#b = 3.1779(34)\n",
    "#E = 660.4(1.8)\n",
    "\n",
    "## The unceirtainties are on x... \n",
    "#the results including unceirtanties in y are not suprisingly\n",
    "# IDENTICAL\n"
   ]
  },
  {
   "cell_type": "markdown",
   "metadata": {
    "pycharm": {
     "name": "#%% md\n"
    }
   },
   "source": [
    "## Attempt 4: error on both axes \n",
    "\n",
    "Unlike the previous example, we do not use the curve_fit module of Scipy, Instead, there is  another  dedicated module to estimate the orthogonal distance regression (odr). The program with some comments is shown below:"
   ]
  },
  {
   "cell_type": "code",
   "execution_count": 64,
   "metadata": {
    "pycharm": {
     "name": "#%%\n"
    }
   },
   "outputs": [
    {
     "name": "stdout",
     "output_type": "stream",
     "text": [
      "fit parameter 1-sigma error\n",
      "———————————–\n",
      "-61.03 +/-   0.97\n",
      "  3.18 +/-   0.00\n",
      "\n",
      "a = -61.0(1.0)\n",
      "b = 3.175(4)\n",
      "E = 660.7(2.9)\n"
     ]
    },
    {
     "data": {
      "image/png": "[encoded data removed]",
      "text/plain": [
       "<Figure size 432x288 with 1 Axes>"
      ]
     },
     "metadata": {
      "needs_background": "light"
     },
     "output_type": "display_data"
    }
   ],
   "source": [
    "import numpy as np\n",
    "from pylab import *\n",
    "from scipy.optimize import curve_fit\n",
    "from scipy import odr\n",
    "\n",
    "\n",
    "def func(p, x):\n",
    "    \"function to fit\"\n",
    "    a, b = p\n",
    "    return a + b * x\n",
    "\n",
    "\n",
    "# Model object\n",
    "quad_model = odr.Model(func)\n",
    "\n",
    "# Create a RealData object\n",
    "data = odr.RealData(x, y, sx=dx, sy=dy)\n",
    "\n",
    "# Set up ODR with the model and data.\n",
    "odr = odr.ODR(data, quad_model, beta0=[0., 1.])  # initial guess of parameters\n",
    "\n",
    "# Run the regression.\n",
    "out = odr.run()\n",
    "\n",
    "#print fit parameters and 1-sigma estimates\n",
    "popt = out.beta\n",
    "perr = out.sd_beta\n",
    "print('fit parameter 1-sigma error')\n",
    "print('———————————–')\n",
    "for i in range(len(popt)):\n",
    "    print(\"{:6.2f} +/- {:6.2f}\".format(popt[i], perr[i]))\n",
    "print()\n",
    "\n",
    "a = ufloat(popt[0], perr[0])\n",
    "b = ufloat(popt[1], perr[1])\n",
    "print(\"a = {:uS}\".format(a))\n",
    "print(\"b = {:uS}\".format(b))\n",
    "\n",
    "ch = ufloat_fromstr(\"227.3(8)\")\n",
    "E = a + ch * b\n",
    "print(\"E = {:uS}\".format(E))\n",
    "\n",
    "# prepare confidence level curves\n",
    "nstd = 5.  # to draw 5-sigma intervals\n",
    "popt_up = popt + nstd * perr\n",
    "popt_dw = popt - nstd * perr\n",
    "\n",
    "x_fit = np.linspace(min(x), max(x), 100)\n",
    "fit = func(popt, x_fit)\n",
    "fit_up = func(popt_up, x_fit)\n",
    "fit_dw = func(popt_dw, x_fit)\n",
    "\n",
    "#plot\n",
    "fig, ax = plt.subplots(1)\n",
    "rcParams['font.size'] = 20\n",
    "xlabel('x', fontsize=16)\n",
    "ylabel('y', fontsize=16)\n",
    "title('fit with error on both axis', fontsize=18)\n",
    "## plot points with errors in both axes\n",
    "errorbar(x, y, yerr=dy, xerr=dx, ecolor='k', fmt='none', label='data')\n",
    "## plot line corresponding to fit\n",
    "plot(x_fit, fit, 'r', lw=0.5, label='best fit curve')\n",
    "## color a 5 sigma region to the fit \n",
    "ax.fill_between(x_fit, fit_up, fit_dw, alpha=.25, label='5-sigma interval')\n",
    "legend(loc='lower right', fontsize=16)\n",
    "show()\n",
    "## OBS: 5-sigma thickness is comparable/smaller with best fit sigma"
   ]
  },
  {
   "cell_type": "markdown",
   "metadata": {
    "pycharm": {
     "name": "#%% md\n"
    }
   },
   "source": [
    "# Comparing this to Dirk's original manual"
   ]
  },
  {
   "cell_type": "code",
   "execution_count": 63,
   "metadata": {
    "pycharm": {
     "name": "#%%\n"
    }
   },
   "outputs": [
    {
     "name": "stdout",
     "output_type": "stream",
     "text": [
      "Using equal weights\n",
      "calibrated energy = 660.3(1.9)\n",
      "\n",
      "Using weights from measurement\n",
      "calibrated energy = 660.7(2.7)\n",
      "\n"
     ]
    }
   ],
   "source": [
    "from uncertainties import ufloat_fromstr\n",
    "\n",
    "print(\"Using equal weights\")\n",
    "a = ufloat_fromstr(\"-62.0(17)\")  # Short-hand notation\n",
    "b = ufloat_fromstr(\"3.1779(36)\")\n",
    "E = a + 227.3 * b\n",
    "print(\"calibrated energy = {:.2uS}\\n\".format(E))\n",
    "# 660.3(1.9)\n",
    "# looks good.\n",
    "# This is compatible to 660.4(1.8) from Attempt 2\n",
    "\n",
    "print(\"Using weights from measurement\")\n",
    "a = ufloat_fromstr(\"-61.0(6)\")  # Short-hand notation\n",
    "b = ufloat_fromstr(\"3.1752(22)\")\n",
    "ch = ufloat_fromstr(\"227.3(8)\")\n",
    "E = a + ch * b\n",
    "print(\"calibrated energy = {:.2uS}\\n\".format(E))\n",
    "# 660.7(2.7)\n",
    "# Looks good when including the unceirtainty of the peak position.\n",
    "# This is compatible to 660.7(2.9) from Attempt 3"
   ]
  },
  {
   "cell_type": "code",
   "execution_count": null,
   "metadata": {
    "pycharm": {
     "name": "#%%\n"
    }
   },
   "outputs": [],
   "source": []
  }
 ],
 "metadata": {
  "kernelspec": {
   "display_name": "Python 3",
   "language": "python",
   "name": "python3"
  },
  "language_info": {
   "codemirror_mode": {
    "name": "ipython",
    "version": 3
   },
   "file_extension": ".py",
   "mimetype": "text/x-python",
   "name": "python",
   "nbconvert_exporter": "python",
   "pygments_lexer": "ipython3",
   "version": "3.8.5"
  }
 },
 "nbformat": 4,
 "nbformat_minor": 4
}