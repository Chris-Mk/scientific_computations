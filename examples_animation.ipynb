{
 "cells": [
  {
   "cell_type": "markdown",
   "metadata": {
    "slideshow": {
     "slide_type": "slide"
    },
    "pycharm": {
     "name": "#%% md\n"
    }
   },
   "source": [
    "---\n",
    "<h1><center> FYSB21 - Mathematical Methods for Vibrations, Waves and Diffusion </center></h1>\n",
    "<h2><center> Heat Diffusion Lab </center></h2>\n",
    "<h3><center> <em>David Hobbs, Bibiana Prinoth</em> </center></h3>\n",
    "<center><img src=\"twoDimensionalHeatGeneral.gif\" width=\"400\"></center>\n",
    "\n",
    "Video Credits: David Hobbs\n",
    "\n",
    "---"
   ]
  },
  {
   "cell_type": "markdown",
   "metadata": {
    "slideshow": {
     "slide_type": "slide"
    }
   },
   "source": [
    "---\n",
    "<h1><center> Contents </center></h1>\n",
    "\n",
    "- General information\n",
    "- Introduction to tasks\n",
    "- Example: Animation\n",
    "\n",
    "<center><img src=\"heat_equation_solution1D.gif\" width=\"400\"></center>\n",
    "\n",
    "--- "
   ]
  },
  {
   "cell_type": "markdown",
   "metadata": {
    "slideshow": {
     "slide_type": "slide"
    }
   },
   "source": [
    "---\n",
    "<h1><center> General Information </center></h1>\n",
    "\n",
    "You can find the teaching material on canvas!\n",
    "\n",
    "You will find there:\n",
    "- The lab manual\n",
    "- These slides with the example for animations\n",
    "\n",
    "If you have questions, please reach out to me via email:\n",
    "\n",
    "bibi@astro.lu.se\n",
    "\n",
    "---\n"
   ]
  },
  {
   "cell_type": "markdown",
   "metadata": {
    "slideshow": {
     "slide_type": "slide"
    }
   },
   "source": [
    "---\n",
    "<h1><center> Introduction to tasks </center></h1>\n",
    "\n",
    "You will have to work on three tasks:\n",
    "\n",
    "- Solution of the heat equation in one dimension\n",
    "- Solution of the heat equation in two dimensions in the general case\n",
    "- Solution of the heat equation using a more realistic example: Impact on Earth\n",
    "\n",
    "---"
   ]
  },
  {
   "cell_type": "markdown",
   "metadata": {
    "slideshow": {
     "slide_type": "slide"
    }
   },
   "source": [
    "---\n",
    "\n",
    "## Heat equation in one dimension\n",
    "\n",
    "<center><img src=\"heat_equation_solution1D.gif\" width=\"500\"></center>\n",
    "\n",
    "\n",
    "---"
   ]
  },
  {
   "cell_type": "markdown",
   "metadata": {
    "slideshow": {
     "slide_type": "slide"
    }
   },
   "source": [
    "---\n",
    "\n",
    "## Heat equation in two dimensions\n",
    "\n",
    "<center><img src=\"oneDimensionalHeatGeneral.gif\" width=\"500\"></center>\n",
    "\n",
    "---"
   ]
  },
  {
   "cell_type": "markdown",
   "metadata": {
    "slideshow": {
     "slide_type": "slide"
    }
   },
   "source": [
    "---\n",
    "\n",
    "## An impact on Earth\n",
    "\n",
    "<img src=\"heat_equation_solution2DEarth.gif\" width=\"500\">\n",
    "\n",
    "---"
   ]
  },
  {
   "cell_type": "markdown",
   "metadata": {
    "slideshow": {
     "slide_type": "slide"
    }
   },
   "source": [
    "---\n",
    "# Example: How to create an animation?\n",
    "\n",
    "There are many different ways of creating animations. Some of you (probably most) have never done that before. So we will show you two examples here:\n",
    "\n",
    "1. Wave\n",
    "2. A moving planet\n",
    "---"
   ]
  },
  {
   "cell_type": "markdown",
   "metadata": {
    "slideshow": {
     "slide_type": "slide"
    }
   },
   "source": [
    "---\n",
    "## A simple wave\n",
    "\n",
    "<center><img src=\"sinwave.gif\" width=\"500\"></center>\n",
    "\n",
    "---"
   ]
  },
  {
   "cell_type": "markdown",
   "metadata": {
    "slideshow": {
     "slide_type": "slide"
    }
   },
   "source": [
    "---\n",
    "\n",
    "# Let's see how these animations were created\n",
    "\n",
    "---"
   ]
  },
  {
   "cell_type": "code",
   "execution_count": 1,
   "metadata": {
    "slideshow": {
     "slide_type": "fragment"
    }
   },
   "outputs": [],
   "source": [
    "import numpy as np\n",
    "import math \n",
    "import sys\n",
    "import matplotlib.pyplot as plt\n",
    "import matplotlib.animation as animation\n",
    "from matplotlib.animation import FuncAnimation\n",
    "plt.style.use('dark_background')"
   ]
  },
  {
   "cell_type": "markdown",
   "metadata": {
    "slideshow": {
     "slide_type": "slide"
    }
   },
   "source": []
  },
  {
   "cell_type": "code",
   "execution_count": 2,
   "metadata": {
    "slideshow": {
     "slide_type": "fragment"
    }
   },
   "outputs": [],
   "source": [
    "def wave_maker(A, B, t, x, omega, k):\n",
    "    x,t =np.meshgrid(x, t)\n",
    "    return A*np.sin(k*x + omega*t) + B*np.cos(k*x + omega*t)\n",
    "\n",
    "def plot_wave(xvals, wave, t, i):\n",
    "    # Clear the current plot figure\n",
    "    plt.clf()\n",
    "\n",
    "    plt.title(f\"Wave at t = {t[i]:.0f} seconds\")\n",
    "    plt.xlabel(\"x\")\n",
    "    plt.ylabel(\"f(x)\")\n",
    "    plt.ylim(-1.1,1.1)\n",
    "\n",
    "    # This is to plot u_k (u at time-step k)\n",
    "    plt.plot(xvals, wave[i], color='yellow')\n",
    "    \n",
    "    return plt\n",
    "\n",
    "def animate(i):\n",
    "    plt = plot_wave(xrange, wave, times, i);\n"
   ]
  },
  {
   "cell_type": "markdown",
   "metadata": {
    "slideshow": {
     "slide_type": "slide"
    }
   },
   "source": []
  },
  {
   "cell_type": "code",
   "execution_count": 3,
   "metadata": {
    "slideshow": {
     "slide_type": "fragment"
    }
   },
   "outputs": [
    {
     "name": "stdout",
     "output_type": "stream",
     "text": [
      "done\n"
     ]
    },
    {
     "data": {
      "text/plain": "<Figure size 432x288 with 1 Axes>",
      "image/png": "[encoded data removed]"
     },
     "metadata": {},
     "output_type": "display_data"
    }
   ],
   "source": [
    "max_iterations = 60\n",
    "#frame_scaling = 4\n",
    "times = np.arange(0, max_iterations, 1)\n",
    "xrange = np.linspace(0,10, max_iterations)\n",
    "\n",
    "omega = np.pi\n",
    "k = 2.5\n",
    "wave = wave_maker(A=0.9, B=0.5, t=times, x=xrange, omega=omega, k=k)\n",
    "\n",
    "\n",
    "anim = animation.FuncAnimation(plt.figure(), animate, interval=1, \n",
    "                               frames=max_iterations, repeat=False)\n",
    "\n",
    "anim.save(\"sinwave.gif\", fps=10, writer='pillow')\n",
    "\n",
    "\n",
    "print('done')"
   ]
  },
  {
   "cell_type": "markdown",
   "metadata": {
    "slideshow": {
     "slide_type": "slide"
    }
   },
   "source": [
    "---\n",
    "<img src=\"sinwave.gif\" width=\"1000\">\n",
    "\n",
    "---"
   ]
  },
  {
   "cell_type": "markdown",
   "metadata": {
    "slideshow": {
     "slide_type": "slide"
    }
   },
   "source": [
    "---\n",
    "\n",
    "# And for the planet orbit?\n",
    "\n",
    "---"
   ]
  },
  {
   "cell_type": "code",
   "execution_count": 4,
   "metadata": {
    "slideshow": {
     "slide_type": "fragment"
    }
   },
   "outputs": [
    {
     "ename": "ModuleNotFoundError",
     "evalue": "No module named 'tqdm'",
     "output_type": "error",
     "traceback": [
      "\u001B[1;31m---------------------------------------------------------------------------\u001B[0m",
      "\u001B[1;31mModuleNotFoundError\u001B[0m                       Traceback (most recent call last)",
      "\u001B[1;32m~\\AppData\\Local\\Temp/ipykernel_1528/1743224130.py\u001B[0m in \u001B[0;36m<module>\u001B[1;34m\u001B[0m\n\u001B[0;32m      3\u001B[0m \u001B[1;32mfrom\u001B[0m \u001B[0mmatplotlib\u001B[0m\u001B[1;33m.\u001B[0m\u001B[0mpatches\u001B[0m \u001B[1;32mimport\u001B[0m \u001B[0mCircle\u001B[0m\u001B[1;33m,\u001B[0m \u001B[0mWedge\u001B[0m\u001B[1;33m,\u001B[0m \u001B[0mPolygon\u001B[0m\u001B[1;33m\u001B[0m\u001B[1;33m\u001B[0m\u001B[0m\n\u001B[0;32m      4\u001B[0m \u001B[1;32mfrom\u001B[0m \u001B[0mmatplotlib\u001B[0m\u001B[1;33m.\u001B[0m\u001B[0mcollections\u001B[0m \u001B[1;32mimport\u001B[0m \u001B[0mPatchCollection\u001B[0m\u001B[1;33m\u001B[0m\u001B[1;33m\u001B[0m\u001B[0m\n\u001B[1;32m----> 5\u001B[1;33m \u001B[1;32mfrom\u001B[0m \u001B[0mtqdm\u001B[0m \u001B[1;32mimport\u001B[0m \u001B[0mtqdm\u001B[0m\u001B[1;33m\u001B[0m\u001B[1;33m\u001B[0m\u001B[0m\n\u001B[0m\u001B[0;32m      6\u001B[0m \u001B[1;31m#import sys\u001B[0m\u001B[1;33m\u001B[0m\u001B[1;33m\u001B[0m\u001B[1;33m\u001B[0m\u001B[0m\n\u001B[0;32m      7\u001B[0m \u001B[0mget_ipython\u001B[0m\u001B[1;33m(\u001B[0m\u001B[1;33m)\u001B[0m\u001B[1;33m.\u001B[0m\u001B[0msystem\u001B[0m\u001B[1;33m(\u001B[0m\u001B[1;34m'{sys.executable} -m pip install opencv-python'\u001B[0m\u001B[1;33m)\u001B[0m\u001B[1;33m\u001B[0m\u001B[1;33m\u001B[0m\u001B[0m\n",
      "\u001B[1;31mModuleNotFoundError\u001B[0m: No module named 'tqdm'"
     ]
    }
   ],
   "source": [
    "import numpy as np\n",
    "import matplotlib.pyplot as plt\n",
    "from matplotlib.patches import Circle, Wedge, Polygon\n",
    "from matplotlib.collections import PatchCollection\n",
    "from tqdm import tqdm\n",
    "#import sys\n",
    "!{sys.executable} -m pip install opencv-python\n",
    "\n",
    "# some parameters\n",
    "plt.style.use('dark_background')\n",
    "\n",
    "# some planetary params, not important\n",
    "wasp_alpha= 25.1/2.\n",
    "\n",
    "star_position = [0, 0]\n",
    "orbit_position = [0, 0]\n",
    "planet_pos = [0,0]\n",
    "\n",
    "spacing = 0.01\n",
    "angle = np.arange(0 , 2 * np.pi , spacing) \n",
    "\n"
   ]
  },
  {
   "cell_type": "code",
   "execution_count": null,
   "metadata": {
    "slideshow": {
     "slide_type": "slide"
    }
   },
   "outputs": [],
   "source": []
  },
  {
   "cell_type": "code",
   "execution_count": null,
   "metadata": {
    "slideshow": {
     "slide_type": "fragment"
    }
   },
   "outputs": [],
   "source": [
    "def create_frames(angles, star_radius = 2.36, planet_radius = 10):\n",
    "    orbit_radius = star_radius / np.sin(np.radians(wasp_alpha))\n",
    "    orbit_x = orbit_radius * np.cos(angle) \n",
    "    orbit_y = orbit_radius * np.sin(angle) \n",
    "    \n",
    "    n=0\n",
    "    for alpha in tqdm(angles):\n",
    "        fig, ax = plt.subplots(figsize=(12,12))\n",
    "\n",
    "        # host star\n",
    "        c=plt.Circle((star_position[0], star_position[1]), radius=star_radius,\n",
    "                    color='dodgerblue', ec='None', alpha=0.7, zorder=-1.5)\n",
    "        ax.add_artist(c)\n",
    "\n",
    "        # orbit line\n",
    "        ax.plot(orbit_x, orbit_y, linestyle='dotted', color='white', zorder=0)\n",
    "        \n",
    "        # planet on orbit\n",
    "        \n",
    "        x_planet = star_position[0] + orbit_radius*np.sin(np.radians(np.abs(alpha)))\n",
    "        y_planet = star_position[1] - orbit_radius*np.cos(np.radians(np.abs(alpha)))\n",
    "        \n",
    "        ax.scatter(x=x_planet, y=y_planet, c='darkorange', alpha=1, s=planet_radius*100,\n",
    "                   edgecolors='darkorange', linewidths=1, zorder=2)\n",
    "\n",
    "        in_angles = np.linspace(np.radians(alpha) , 0 , 150)+3*np.pi/2\n",
    "        x_angles = 1.5*np.cos(in_angles) \n",
    "        y_angles = 1.5*np.sin(in_angles) \n",
    "\n",
    "        ax.plot([x_planet, star_position[0], 0], [y_planet, star_position[1], \n",
    "                                                  -orbit_radius], color='white', zorder=-1)\n",
    "        \n",
    "        ax.plot(x_angles, y_angles, color='white', zorder=-1)\n",
    "        ax.text(s=r'$\\alpha=%0.2f^\\circ$' %alpha, x=11.5, y=-1, size=20)\n",
    "\n",
    "        ax.set_xticks([])\n",
    "        ax.set_yticks([])\n",
    "        ax.axis('off')\n",
    "        ax.set_aspect('equal')\n",
    "        ax.set_ylim((-orbit_radius-1,orbit_radius+1))\n",
    "        ax.set_xlim((-orbit_radius-3,orbit_radius+3))\n",
    "\n",
    "        plt.savefig('frames_planet/%03d.png' %n, dpi=300)\n",
    "        plt.close()\n",
    "        n+=1\n",
    "        \n",
    "    return 0"
   ]
  },
  {
   "cell_type": "code",
   "execution_count": null,
   "metadata": {
    "slideshow": {
     "slide_type": "slide"
    }
   },
   "outputs": [],
   "source": []
  },
  {
   "cell_type": "code",
   "execution_count": null,
   "metadata": {
    "slideshow": {
     "slide_type": "fragment"
    }
   },
   "outputs": [],
   "source": [
    "def animate_frames(folder, save_name, fps):\n",
    "        \n",
    "    import cv2\n",
    "    import glob \n",
    "    \n",
    "    img_array = []\n",
    "    Files = glob.glob(folder+'/*.png')\n",
    "    Files.sort()\n",
    "    for filename in tqdm(Files):\n",
    "        img = cv2.imread(filename)\n",
    "        height, width, layers = img.shape\n",
    "        size = (width,height)\n",
    "        img_array.append(img)\n",
    "\n",
    "    out = cv2.VideoWriter(save_name+'.mp4',\n",
    "                          cv2.VideoWriter_fourcc(*'MP4V'), fps, size)\n",
    "    for i in range(len(img_array)):\n",
    "        out.write(img_array[i])\n",
    "    out.release()\n",
    "    \n",
    "    return 0\n",
    "    \n",
    "angles = np.linspace(0, 360, 100)\n",
    "#create_frames(angles)\n",
    "animate_frames('frames_planet', 'orbit', 30)\n",
    "\n",
    "print('done')"
   ]
  },
  {
   "cell_type": "markdown",
   "metadata": {
    "slideshow": {
     "slide_type": "slide"
    }
   },
   "source": [
    "---\n",
    "<img src=\"orbit.mp4\" width=\"700\">\n",
    "\n",
    "---"
   ]
  },
  {
   "cell_type": "code",
   "execution_count": null,
   "metadata": {},
   "outputs": [],
   "source": []
  },
  {
   "cell_type": "code",
   "execution_count": null,
   "metadata": {},
   "outputs": [],
   "source": []
  }
 ],
 "metadata": {
  "celltoolbar": "Slideshow",
  "kernelspec": {
   "display_name": "Python 3",
   "language": "python",
   "name": "python3"
  },
  "language_info": {
   "codemirror_mode": {
    "name": "ipython",
    "version": 3
   },
   "file_extension": ".py",
   "mimetype": "text/x-python",
   "name": "python",
   "nbconvert_exporter": "python",
   "pygments_lexer": "ipython3",
   "version": "3.8.5"
  }
 },
 "nbformat": 4,
 "nbformat_minor": 2
}